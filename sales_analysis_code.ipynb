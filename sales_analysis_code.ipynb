{
 "cells": [
  {
   "cell_type": "markdown",
   "metadata": {
    "canvas": {
     "comments": [],
     "componentType": "CodeCell",
     "copiedOriginId": null,
     "diskcache": false,
     "headerColor": "inherit",
     "id": "9c54f37f-ecff-49e5-b583-57ed2b6857c9",
     "isComponent": false,
     "name": "",
     "parents": []
    }
   },
   "source": [
    "<h2><center> Welcome to the sales analysis</h2></center>\n",
    "<figure>\n",
    "<center><img src =\"market1.jpg\" width = \"800\" height = '500'/>"
   ]
  },
  {
   "cell_type": "markdown",
   "metadata": {
    "canvas": {
     "comments": [],
     "componentType": "CodeCell",
     "copiedOriginId": null,
     "diskcache": false,
     "headerColor": "inherit",
     "id": "c4d247e9-1df3-4319-a545-9a2e10946ec4",
     "isComponent": false,
     "name": "",
     "parents": []
    }
   },
   "source": [
    "Notre objectif dans ce projet d'analyse de donnée est de répondre à des questions business qui nous ont été soumis par l'équipe marketing. Nous analyserons les données mensuelles de ventes d'une société spécialiser dans la vente de smartphone et de gadgets.\n",
    "\n",
    "\n",
    "\n",
    "\n",
    "1.   **Quel est le mois dans lequel nous avons réalisé le meilleur chiffre d'affaire**\n",
    "2.   **Dans quelle ville nous avons réalisé un maximum de commande**\n",
    "3.   **En quel moment doit on faire une camapgne publicitaire pour avoir plus de vente**\n",
    "4.   **Quels produits se vend le plus**\n",
    "\n",
    "\n"
   ]
  },
  {
   "cell_type": "code",
   "execution_count": null,
   "metadata": {
    "canvas": {
     "comments": [],
     "componentType": "CodeCell",
     "copiedOriginId": null,
     "diskcache": false,
     "headerColor": "none",
     "id": "94875fca-372c-4ac8-9288-e7e6d0290279",
     "isComponent": false,
     "name": "",
     "parents": []
    },
    "colab": {
     "base_uri": "https://localhost:8080/"
    },
    "id": "1RSNd1mafNCS",
    "outputId": "146a5388-df2f-4729-980f-e4235a444b6b"
   },
   "outputs": [
    {
     "name": "stdout",
     "output_type": "stream",
     "text": [
      "Mounted at drive\n"
     ]
    }
   ],
   "source": [
    "from google.colab import drive\n",
    "drive.mount('drive')"
   ]
  },
  {
   "cell_type": "code",
   "execution_count": null,
   "metadata": {
    "canvas": {
     "comments": [],
     "componentType": "CodeCell",
     "copiedOriginId": null,
     "diskcache": false,
     "headerColor": "none",
     "id": "355a31b2-2ae0-4a44-8df9-5bfc96088c0f",
     "isComponent": false,
     "name": "",
     "parents": []
    },
    "id": "WxXlLxF4f7CC"
   },
   "outputs": [],
   "source": [
    "# %tensorflow_version 1.x\n",
    "import os\n",
    "os.chdir('/content/drive/MyDrive/Data analysis/Sales_Data/Sales_Data')"
   ]
  },
  {
   "cell_type": "code",
   "execution_count": null,
   "metadata": {
    "canvas": {
     "comments": [],
     "componentType": "CodeCell",
     "copiedOriginId": null,
     "diskcache": false,
     "headerColor": "none",
     "id": "482803b4-bcce-4589-86fe-8cd21956bfbe",
     "isComponent": false,
     "name": "",
     "parents": []
    },
    "colab": {
     "base_uri": "https://localhost:8080/"
    },
    "id": "ZukVAnedgH_n",
    "outputId": "71f9a05b-c875-4803-a17c-6047f41cced6"
   },
   "outputs": [
    {
     "name": "stdout",
     "output_type": "stream",
     "text": [
      "All_data.csv\t\t Sales_January_2019.csv  Sales_November_2019.csv\n",
      "Sales_April_2019.csv\t Sales_July_2019.csv\t Sales_October_2019.csv\n",
      "Sales_August_2019.csv\t Sales_June_2019.csv\t Sales_September_2019.csv\n",
      "Sales_December_2019.csv  Sales_March_2019.csv\n",
      "Sales_February_2019.csv  Sales_May_2019.csv\n"
     ]
    }
   ],
   "source": [
    "!ls"
   ]
  },
  {
   "cell_type": "code",
   "execution_count": 1,
   "metadata": {
    "canvas": {
     "comments": [],
     "componentType": "CodeCell",
     "copiedOriginId": null,
     "diskcache": false,
     "headerColor": "none",
     "id": "ef233087-a43d-4387-98b6-ed5ac8a8fdab",
     "isComponent": false,
     "name": "",
     "parents": []
    },
    "id": "KmiBSZfLgIzS"
   },
   "outputs": [],
   "source": [
    "import os \n",
    "import pandas as pd\n",
    "import matplotlib.pyplot as plt\n",
    "import seaborn as seaborn"
   ]
  },
  {
   "cell_type": "code",
   "execution_count": null,
   "metadata": {
    "canvas": {
     "comments": [],
     "componentType": "CodeCell",
     "copiedOriginId": null,
     "diskcache": false,
     "headerColor": "none",
     "id": "8137cec8-627e-4df0-a50d-e2dbd90d631c",
     "isComponent": false,
     "name": "",
     "parents": []
    },
    "id": "mGuY3Rb8hUCZ"
   },
   "outputs": [],
   "source": [
    "files =  [file for file in os.listdir(r'/content/drive/MyDrive/Data analysis/Sales_Data/Sales_Data')]"
   ]
  },
  {
   "cell_type": "code",
   "execution_count": null,
   "metadata": {
    "canvas": {
     "comments": [],
     "componentType": "CodeCell",
     "copiedOriginId": null,
     "diskcache": false,
     "headerColor": "none",
     "id": "76741376-66c7-4a98-8810-de0269a8bde7",
     "isComponent": false,
     "name": "",
     "parents": []
    },
    "colab": {
     "base_uri": "https://localhost:8080/"
    },
    "id": "K8KlXlOBh134",
    "outputId": "a11e7d9a-7591-48fb-b2a1-edf9f577edf7"
   },
   "outputs": [
    {
     "name": "stdout",
     "output_type": "stream",
     "text": [
      "Sales_November_2019.csv\n",
      "Sales_May_2019.csv\n",
      "Sales_October_2019.csv\n",
      "Sales_September_2019.csv\n",
      "Sales_July_2019.csv\n",
      "Sales_June_2019.csv\n",
      "Sales_December_2019.csv\n",
      "Sales_April_2019.csv\n",
      "Sales_August_2019.csv\n",
      "Sales_March_2019.csv\n",
      "Sales_January_2019.csv\n",
      "Sales_February_2019.csv\n"
     ]
    }
   ],
   "source": [
    "for file in files:\n",
    "  print(file)"
   ]
  },
  {
   "cell_type": "code",
   "execution_count": null,
   "metadata": {
    "canvas": {
     "comments": [],
     "componentType": "CodeCell",
     "copiedOriginId": null,
     "diskcache": false,
     "headerColor": "none",
     "id": "8ddc8442-aeda-4aea-bc09-7614309dd8f8",
     "isComponent": false,
     "name": "",
     "parents": []
    },
    "colab": {
     "base_uri": "https://localhost:8080/"
    },
    "id": "5uLE7drfh2t1",
    "outputId": "51ce2249-79f7-4d83-eee1-390e0062364f"
   },
   "outputs": [
    {
     "name": "stdout",
     "output_type": "stream",
     "text": [
      "      Order ID                     Product Quantity Ordered Price Each  \\\n",
      "0       278797            Wired Headphones                1      11.99   \n",
      "1       278798        USB-C Charging Cable                2      11.95   \n",
      "2       278799    Apple Airpods Headphones                1      150.0   \n",
      "3       278800            27in FHD Monitor                1     149.99   \n",
      "4       278801  Bose SoundSport Headphones                1      99.99   \n",
      "...        ...                         ...              ...        ...   \n",
      "12031   162004    Apple Airpods Headphones                1        150   \n",
      "12032   162005      AAA Batteries (4-pack)                2       2.99   \n",
      "12033   162006        USB-C Charging Cable                1      11.95   \n",
      "12034   162007        USB-C Charging Cable                1      11.95   \n",
      "12035   162008            27in FHD Monitor                1     149.99   \n",
      "\n",
      "           Order Date                         Purchase Address  \n",
      "0      11/21/19 09:54      46 Park St, New York City, NY 10001  \n",
      "1      11/17/19 10:03         962 Hickory St, Austin, TX 73301  \n",
      "2      11/19/19 14:56     464 Cherry St, Los Angeles, CA 90001  \n",
      "3      11/25/19 22:24           649 10th St, Seattle, WA 98101  \n",
      "4      11/09/19 13:56            522 Hill St, Boston, MA 02215  \n",
      "...               ...                                      ...  \n",
      "12031  02/12/19 22:02   227 Church St, San Francisco, CA 94016  \n",
      "12032  02/04/19 20:44  417 Jefferson St, Los Angeles, CA 90001  \n",
      "12033  02/24/19 06:31            498 8th St, Atlanta, GA 30301  \n",
      "12034  02/24/19 19:09             715 7th St, Dallas, TX 75001  \n",
      "12035  02/26/19 17:15       677 West St, Los Angeles, CA 90001  \n",
      "\n",
      "[186850 rows x 6 columns]\n"
     ]
    }
   ],
   "source": [
    "path = r'/content/drive/MyDrive/Data analysis/Sales_Data/Sales_Data'\n",
    "\n",
    "all_data =  pd.DataFrame()\n",
    "\n",
    "for file in files:\n",
    "  current_data =  pd.read_csv(path +'/'+ file)\n",
    "  all_data =  pd.concat([all_data,current_data]) \n",
    "\n",
    "print(all_data)"
   ]
  },
  {
   "cell_type": "code",
   "execution_count": null,
   "metadata": {
    "canvas": {
     "comments": [],
     "componentType": "CodeCell",
     "copiedOriginId": null,
     "diskcache": false,
     "headerColor": "none",
     "id": "886c23f8-446c-4af7-81a2-ca440e0e9dc0",
     "isComponent": false,
     "name": "",
     "parents": []
    },
    "colab": {
     "base_uri": "https://localhost:8080/",
     "height": 468
    },
    "id": "0n9QJ8lqin9_",
    "outputId": "6f898d1c-3dc3-43a4-978d-260cba2f60a5"
   },
   "outputs": [
    {
     "data": {
      "text/html": [
       "\n",
       "  <div id=\"df-66d37a75-c128-49e6-a2a7-64324c3121f2\">\n",
       "    <div class=\"colab-df-container\">\n",
       "      <div>\n",
       "<style scoped>\n",
       "    .dataframe tbody tr th:only-of-type {\n",
       "        vertical-align: middle;\n",
       "    }\n",
       "\n",
       "    .dataframe tbody tr th {\n",
       "        vertical-align: top;\n",
       "    }\n",
       "\n",
       "    .dataframe thead th {\n",
       "        text-align: right;\n",
       "    }\n",
       "</style>\n",
       "<table border=\"1\" class=\"dataframe\">\n",
       "  <thead>\n",
       "    <tr style=\"text-align: right;\">\n",
       "      <th></th>\n",
       "      <th>Order ID</th>\n",
       "      <th>Product</th>\n",
       "      <th>Quantity Ordered</th>\n",
       "      <th>Price Each</th>\n",
       "      <th>Order Date</th>\n",
       "      <th>Purchase Address</th>\n",
       "    </tr>\n",
       "  </thead>\n",
       "  <tbody>\n",
       "    <tr>\n",
       "      <th>0</th>\n",
       "      <td>278797</td>\n",
       "      <td>Wired Headphones</td>\n",
       "      <td>1</td>\n",
       "      <td>11.99</td>\n",
       "      <td>11/21/19 09:54</td>\n",
       "      <td>46 Park St, New York City, NY 10001</td>\n",
       "    </tr>\n",
       "    <tr>\n",
       "      <th>1</th>\n",
       "      <td>278798</td>\n",
       "      <td>USB-C Charging Cable</td>\n",
       "      <td>2</td>\n",
       "      <td>11.95</td>\n",
       "      <td>11/17/19 10:03</td>\n",
       "      <td>962 Hickory St, Austin, TX 73301</td>\n",
       "    </tr>\n",
       "    <tr>\n",
       "      <th>2</th>\n",
       "      <td>278799</td>\n",
       "      <td>Apple Airpods Headphones</td>\n",
       "      <td>1</td>\n",
       "      <td>150.0</td>\n",
       "      <td>11/19/19 14:56</td>\n",
       "      <td>464 Cherry St, Los Angeles, CA 90001</td>\n",
       "    </tr>\n",
       "    <tr>\n",
       "      <th>3</th>\n",
       "      <td>278800</td>\n",
       "      <td>27in FHD Monitor</td>\n",
       "      <td>1</td>\n",
       "      <td>149.99</td>\n",
       "      <td>11/25/19 22:24</td>\n",
       "      <td>649 10th St, Seattle, WA 98101</td>\n",
       "    </tr>\n",
       "    <tr>\n",
       "      <th>4</th>\n",
       "      <td>278801</td>\n",
       "      <td>Bose SoundSport Headphones</td>\n",
       "      <td>1</td>\n",
       "      <td>99.99</td>\n",
       "      <td>11/09/19 13:56</td>\n",
       "      <td>522 Hill St, Boston, MA 02215</td>\n",
       "    </tr>\n",
       "    <tr>\n",
       "      <th>...</th>\n",
       "      <td>...</td>\n",
       "      <td>...</td>\n",
       "      <td>...</td>\n",
       "      <td>...</td>\n",
       "      <td>...</td>\n",
       "      <td>...</td>\n",
       "    </tr>\n",
       "    <tr>\n",
       "      <th>12031</th>\n",
       "      <td>162004</td>\n",
       "      <td>Apple Airpods Headphones</td>\n",
       "      <td>1</td>\n",
       "      <td>150</td>\n",
       "      <td>02/12/19 22:02</td>\n",
       "      <td>227 Church St, San Francisco, CA 94016</td>\n",
       "    </tr>\n",
       "    <tr>\n",
       "      <th>12032</th>\n",
       "      <td>162005</td>\n",
       "      <td>AAA Batteries (4-pack)</td>\n",
       "      <td>2</td>\n",
       "      <td>2.99</td>\n",
       "      <td>02/04/19 20:44</td>\n",
       "      <td>417 Jefferson St, Los Angeles, CA 90001</td>\n",
       "    </tr>\n",
       "    <tr>\n",
       "      <th>12033</th>\n",
       "      <td>162006</td>\n",
       "      <td>USB-C Charging Cable</td>\n",
       "      <td>1</td>\n",
       "      <td>11.95</td>\n",
       "      <td>02/24/19 06:31</td>\n",
       "      <td>498 8th St, Atlanta, GA 30301</td>\n",
       "    </tr>\n",
       "    <tr>\n",
       "      <th>12034</th>\n",
       "      <td>162007</td>\n",
       "      <td>USB-C Charging Cable</td>\n",
       "      <td>1</td>\n",
       "      <td>11.95</td>\n",
       "      <td>02/24/19 19:09</td>\n",
       "      <td>715 7th St, Dallas, TX 75001</td>\n",
       "    </tr>\n",
       "    <tr>\n",
       "      <th>12035</th>\n",
       "      <td>162008</td>\n",
       "      <td>27in FHD Monitor</td>\n",
       "      <td>1</td>\n",
       "      <td>149.99</td>\n",
       "      <td>02/26/19 17:15</td>\n",
       "      <td>677 West St, Los Angeles, CA 90001</td>\n",
       "    </tr>\n",
       "  </tbody>\n",
       "</table>\n",
       "<p>186850 rows × 6 columns</p>\n",
       "</div>\n",
       "      <button class=\"colab-df-convert\" onclick=\"convertToInteractive('df-66d37a75-c128-49e6-a2a7-64324c3121f2')\"\n",
       "              title=\"Convert this dataframe to an interactive table.\"\n",
       "              style=\"display:none;\">\n",
       "        \n",
       "  <svg xmlns=\"http://www.w3.org/2000/svg\" height=\"24px\"viewBox=\"0 0 24 24\"\n",
       "       width=\"24px\">\n",
       "    <path d=\"M0 0h24v24H0V0z\" fill=\"none\"/>\n",
       "    <path d=\"M18.56 5.44l.94 2.06.94-2.06 2.06-.94-2.06-.94-.94-2.06-.94 2.06-2.06.94zm-11 1L8.5 8.5l.94-2.06 2.06-.94-2.06-.94L8.5 2.5l-.94 2.06-2.06.94zm10 10l.94 2.06.94-2.06 2.06-.94-2.06-.94-.94-2.06-.94 2.06-2.06.94z\"/><path d=\"M17.41 7.96l-1.37-1.37c-.4-.4-.92-.59-1.43-.59-.52 0-1.04.2-1.43.59L10.3 9.45l-7.72 7.72c-.78.78-.78 2.05 0 2.83L4 21.41c.39.39.9.59 1.41.59.51 0 1.02-.2 1.41-.59l7.78-7.78 2.81-2.81c.8-.78.8-2.07 0-2.86zM5.41 20L4 18.59l7.72-7.72 1.47 1.35L5.41 20z\"/>\n",
       "  </svg>\n",
       "      </button>\n",
       "      \n",
       "  <style>\n",
       "    .colab-df-container {\n",
       "      display:flex;\n",
       "      flex-wrap:wrap;\n",
       "      gap: 12px;\n",
       "    }\n",
       "\n",
       "    .colab-df-convert {\n",
       "      background-color: #E8F0FE;\n",
       "      border: none;\n",
       "      border-radius: 50%;\n",
       "      cursor: pointer;\n",
       "      display: none;\n",
       "      fill: #1967D2;\n",
       "      height: 32px;\n",
       "      padding: 0 0 0 0;\n",
       "      width: 32px;\n",
       "    }\n",
       "\n",
       "    .colab-df-convert:hover {\n",
       "      background-color: #E2EBFA;\n",
       "      box-shadow: 0px 1px 2px rgba(60, 64, 67, 0.3), 0px 1px 3px 1px rgba(60, 64, 67, 0.15);\n",
       "      fill: #174EA6;\n",
       "    }\n",
       "\n",
       "    [theme=dark] .colab-df-convert {\n",
       "      background-color: #3B4455;\n",
       "      fill: #D2E3FC;\n",
       "    }\n",
       "\n",
       "    [theme=dark] .colab-df-convert:hover {\n",
       "      background-color: #434B5C;\n",
       "      box-shadow: 0px 1px 3px 1px rgba(0, 0, 0, 0.15);\n",
       "      filter: drop-shadow(0px 1px 2px rgba(0, 0, 0, 0.3));\n",
       "      fill: #FFFFFF;\n",
       "    }\n",
       "  </style>\n",
       "\n",
       "      <script>\n",
       "        const buttonEl =\n",
       "          document.querySelector('#df-66d37a75-c128-49e6-a2a7-64324c3121f2 button.colab-df-convert');\n",
       "        buttonEl.style.display =\n",
       "          google.colab.kernel.accessAllowed ? 'block' : 'none';\n",
       "\n",
       "        async function convertToInteractive(key) {\n",
       "          const element = document.querySelector('#df-66d37a75-c128-49e6-a2a7-64324c3121f2');\n",
       "          const dataTable =\n",
       "            await google.colab.kernel.invokeFunction('convertToInteractive',\n",
       "                                                     [key], {});\n",
       "          if (!dataTable) return;\n",
       "\n",
       "          const docLinkHtml = 'Like what you see? Visit the ' +\n",
       "            '<a target=\"_blank\" href=https://colab.research.google.com/notebooks/data_table.ipynb>data table notebook</a>'\n",
       "            + ' to learn more about interactive tables.';\n",
       "          element.innerHTML = '';\n",
       "          dataTable['output_type'] = 'display_data';\n",
       "          await google.colab.output.renderOutput(dataTable, element);\n",
       "          const docLink = document.createElement('div');\n",
       "          docLink.innerHTML = docLinkHtml;\n",
       "          element.appendChild(docLink);\n",
       "        }\n",
       "      </script>\n",
       "    </div>\n",
       "  </div>\n",
       "  "
      ],
      "text/plain": [
       "      Order ID                     Product Quantity Ordered Price Each  \\\n",
       "0       278797            Wired Headphones                1      11.99   \n",
       "1       278798        USB-C Charging Cable                2      11.95   \n",
       "2       278799    Apple Airpods Headphones                1      150.0   \n",
       "3       278800            27in FHD Monitor                1     149.99   \n",
       "4       278801  Bose SoundSport Headphones                1      99.99   \n",
       "...        ...                         ...              ...        ...   \n",
       "12031   162004    Apple Airpods Headphones                1        150   \n",
       "12032   162005      AAA Batteries (4-pack)                2       2.99   \n",
       "12033   162006        USB-C Charging Cable                1      11.95   \n",
       "12034   162007        USB-C Charging Cable                1      11.95   \n",
       "12035   162008            27in FHD Monitor                1     149.99   \n",
       "\n",
       "           Order Date                         Purchase Address  \n",
       "0      11/21/19 09:54      46 Park St, New York City, NY 10001  \n",
       "1      11/17/19 10:03         962 Hickory St, Austin, TX 73301  \n",
       "2      11/19/19 14:56     464 Cherry St, Los Angeles, CA 90001  \n",
       "3      11/25/19 22:24           649 10th St, Seattle, WA 98101  \n",
       "4      11/09/19 13:56            522 Hill St, Boston, MA 02215  \n",
       "...               ...                                      ...  \n",
       "12031  02/12/19 22:02   227 Church St, San Francisco, CA 94016  \n",
       "12032  02/04/19 20:44  417 Jefferson St, Los Angeles, CA 90001  \n",
       "12033  02/24/19 06:31            498 8th St, Atlanta, GA 30301  \n",
       "12034  02/24/19 19:09             715 7th St, Dallas, TX 75001  \n",
       "12035  02/26/19 17:15       677 West St, Los Angeles, CA 90001  \n",
       "\n",
       "[186850 rows x 6 columns]"
      ]
     },
     "execution_count": 26,
     "metadata": {},
     "output_type": "execute_result"
    }
   ],
   "source": [
    "all_data"
   ]
  },
  {
   "cell_type": "code",
   "execution_count": null,
   "metadata": {
    "canvas": {
     "comments": [],
     "componentType": "CodeCell",
     "copiedOriginId": null,
     "diskcache": false,
     "headerColor": "none",
     "id": "e9b3e3e9-ec56-4484-9e6b-789f659d7c21",
     "isComponent": false,
     "name": "",
     "parents": []
    },
    "id": "e5IS1A_wjcPZ"
   },
   "outputs": [],
   "source": [
    "all_data.to_csv( path+'/All_data.csv', index= False)"
   ]
  },
  {
   "cell_type": "code",
   "execution_count": null,
   "metadata": {
    "canvas": {
     "comments": [],
     "componentType": "CodeCell",
     "copiedOriginId": null,
     "diskcache": false,
     "headerColor": "none",
     "id": "a5ef27d9-0554-4f2f-ace7-8898e406d3fd",
     "isComponent": false,
     "name": "",
     "parents": []
    },
    "colab": {
     "base_uri": "https://localhost:8080/",
     "height": 354
    },
    "id": "1Uok3MTykA5K",
    "outputId": "ac2f968f-e2b5-415e-f75a-edcd7fba9545"
   },
   "outputs": [
    {
     "data": {
      "text/html": [
       "\n",
       "  <div id=\"df-cbbcb82c-117a-4138-a05d-2a0051e53826\">\n",
       "    <div class=\"colab-df-container\">\n",
       "      <div>\n",
       "<style scoped>\n",
       "    .dataframe tbody tr th:only-of-type {\n",
       "        vertical-align: middle;\n",
       "    }\n",
       "\n",
       "    .dataframe tbody tr th {\n",
       "        vertical-align: top;\n",
       "    }\n",
       "\n",
       "    .dataframe thead th {\n",
       "        text-align: right;\n",
       "    }\n",
       "</style>\n",
       "<table border=\"1\" class=\"dataframe\">\n",
       "  <thead>\n",
       "    <tr style=\"text-align: right;\">\n",
       "      <th></th>\n",
       "      <th>Order ID</th>\n",
       "      <th>Product</th>\n",
       "      <th>Quantity Ordered</th>\n",
       "      <th>Price Each</th>\n",
       "      <th>Order Date</th>\n",
       "      <th>Purchase Address</th>\n",
       "    </tr>\n",
       "  </thead>\n",
       "  <tbody>\n",
       "    <tr>\n",
       "      <th>0</th>\n",
       "      <td>278797</td>\n",
       "      <td>Wired Headphones</td>\n",
       "      <td>1</td>\n",
       "      <td>11.99</td>\n",
       "      <td>11/21/19 09:54</td>\n",
       "      <td>46 Park St, New York City, NY 10001</td>\n",
       "    </tr>\n",
       "    <tr>\n",
       "      <th>1</th>\n",
       "      <td>278798</td>\n",
       "      <td>USB-C Charging Cable</td>\n",
       "      <td>2</td>\n",
       "      <td>11.95</td>\n",
       "      <td>11/17/19 10:03</td>\n",
       "      <td>962 Hickory St, Austin, TX 73301</td>\n",
       "    </tr>\n",
       "    <tr>\n",
       "      <th>2</th>\n",
       "      <td>278799</td>\n",
       "      <td>Apple Airpods Headphones</td>\n",
       "      <td>1</td>\n",
       "      <td>150.0</td>\n",
       "      <td>11/19/19 14:56</td>\n",
       "      <td>464 Cherry St, Los Angeles, CA 90001</td>\n",
       "    </tr>\n",
       "    <tr>\n",
       "      <th>3</th>\n",
       "      <td>278800</td>\n",
       "      <td>27in FHD Monitor</td>\n",
       "      <td>1</td>\n",
       "      <td>149.99</td>\n",
       "      <td>11/25/19 22:24</td>\n",
       "      <td>649 10th St, Seattle, WA 98101</td>\n",
       "    </tr>\n",
       "    <tr>\n",
       "      <th>4</th>\n",
       "      <td>278801</td>\n",
       "      <td>Bose SoundSport Headphones</td>\n",
       "      <td>1</td>\n",
       "      <td>99.99</td>\n",
       "      <td>11/09/19 13:56</td>\n",
       "      <td>522 Hill St, Boston, MA 02215</td>\n",
       "    </tr>\n",
       "  </tbody>\n",
       "</table>\n",
       "</div>\n",
       "      <button class=\"colab-df-convert\" onclick=\"convertToInteractive('df-cbbcb82c-117a-4138-a05d-2a0051e53826')\"\n",
       "              title=\"Convert this dataframe to an interactive table.\"\n",
       "              style=\"display:none;\">\n",
       "        \n",
       "  <svg xmlns=\"http://www.w3.org/2000/svg\" height=\"24px\"viewBox=\"0 0 24 24\"\n",
       "       width=\"24px\">\n",
       "    <path d=\"M0 0h24v24H0V0z\" fill=\"none\"/>\n",
       "    <path d=\"M18.56 5.44l.94 2.06.94-2.06 2.06-.94-2.06-.94-.94-2.06-.94 2.06-2.06.94zm-11 1L8.5 8.5l.94-2.06 2.06-.94-2.06-.94L8.5 2.5l-.94 2.06-2.06.94zm10 10l.94 2.06.94-2.06 2.06-.94-2.06-.94-.94-2.06-.94 2.06-2.06.94z\"/><path d=\"M17.41 7.96l-1.37-1.37c-.4-.4-.92-.59-1.43-.59-.52 0-1.04.2-1.43.59L10.3 9.45l-7.72 7.72c-.78.78-.78 2.05 0 2.83L4 21.41c.39.39.9.59 1.41.59.51 0 1.02-.2 1.41-.59l7.78-7.78 2.81-2.81c.8-.78.8-2.07 0-2.86zM5.41 20L4 18.59l7.72-7.72 1.47 1.35L5.41 20z\"/>\n",
       "  </svg>\n",
       "      </button>\n",
       "      \n",
       "  <style>\n",
       "    .colab-df-container {\n",
       "      display:flex;\n",
       "      flex-wrap:wrap;\n",
       "      gap: 12px;\n",
       "    }\n",
       "\n",
       "    .colab-df-convert {\n",
       "      background-color: #E8F0FE;\n",
       "      border: none;\n",
       "      border-radius: 50%;\n",
       "      cursor: pointer;\n",
       "      display: none;\n",
       "      fill: #1967D2;\n",
       "      height: 32px;\n",
       "      padding: 0 0 0 0;\n",
       "      width: 32px;\n",
       "    }\n",
       "\n",
       "    .colab-df-convert:hover {\n",
       "      background-color: #E2EBFA;\n",
       "      box-shadow: 0px 1px 2px rgba(60, 64, 67, 0.3), 0px 1px 3px 1px rgba(60, 64, 67, 0.15);\n",
       "      fill: #174EA6;\n",
       "    }\n",
       "\n",
       "    [theme=dark] .colab-df-convert {\n",
       "      background-color: #3B4455;\n",
       "      fill: #D2E3FC;\n",
       "    }\n",
       "\n",
       "    [theme=dark] .colab-df-convert:hover {\n",
       "      background-color: #434B5C;\n",
       "      box-shadow: 0px 1px 3px 1px rgba(0, 0, 0, 0.15);\n",
       "      filter: drop-shadow(0px 1px 2px rgba(0, 0, 0, 0.3));\n",
       "      fill: #FFFFFF;\n",
       "    }\n",
       "  </style>\n",
       "\n",
       "      <script>\n",
       "        const buttonEl =\n",
       "          document.querySelector('#df-cbbcb82c-117a-4138-a05d-2a0051e53826 button.colab-df-convert');\n",
       "        buttonEl.style.display =\n",
       "          google.colab.kernel.accessAllowed ? 'block' : 'none';\n",
       "\n",
       "        async function convertToInteractive(key) {\n",
       "          const element = document.querySelector('#df-cbbcb82c-117a-4138-a05d-2a0051e53826');\n",
       "          const dataTable =\n",
       "            await google.colab.kernel.invokeFunction('convertToInteractive',\n",
       "                                                     [key], {});\n",
       "          if (!dataTable) return;\n",
       "\n",
       "          const docLinkHtml = 'Like what you see? Visit the ' +\n",
       "            '<a target=\"_blank\" href=https://colab.research.google.com/notebooks/data_table.ipynb>data table notebook</a>'\n",
       "            + ' to learn more about interactive tables.';\n",
       "          element.innerHTML = '';\n",
       "          dataTable['output_type'] = 'display_data';\n",
       "          await google.colab.output.renderOutput(dataTable, element);\n",
       "          const docLink = document.createElement('div');\n",
       "          docLink.innerHTML = docLinkHtml;\n",
       "          element.appendChild(docLink);\n",
       "        }\n",
       "      </script>\n",
       "    </div>\n",
       "  </div>\n",
       "  "
      ],
      "text/plain": [
       "  Order ID                     Product Quantity Ordered Price Each  \\\n",
       "0   278797            Wired Headphones                1      11.99   \n",
       "1   278798        USB-C Charging Cable                2      11.95   \n",
       "2   278799    Apple Airpods Headphones                1      150.0   \n",
       "3   278800            27in FHD Monitor                1     149.99   \n",
       "4   278801  Bose SoundSport Headphones                1      99.99   \n",
       "\n",
       "       Order Date                      Purchase Address  \n",
       "0  11/21/19 09:54   46 Park St, New York City, NY 10001  \n",
       "1  11/17/19 10:03      962 Hickory St, Austin, TX 73301  \n",
       "2  11/19/19 14:56  464 Cherry St, Los Angeles, CA 90001  \n",
       "3  11/25/19 22:24        649 10th St, Seattle, WA 98101  \n",
       "4  11/09/19 13:56         522 Hill St, Boston, MA 02215  "
      ]
     },
     "execution_count": 6,
     "metadata": {},
     "output_type": "execute_result"
    }
   ],
   "source": [
    "all_data =  pd.read_csv('/content/drive/MyDrive/Data analysis/Sales_Data/Sales_Data/All_data.csv')\n",
    "all_data.head()"
   ]
  },
  {
   "cell_type": "code",
   "execution_count": null,
   "metadata": {
    "canvas": {
     "comments": [],
     "componentType": "CodeCell",
     "copiedOriginId": null,
     "diskcache": false,
     "headerColor": "none",
     "id": "45b42ec5-f45a-4a1a-902e-b9f9dd312cce",
     "isComponent": false,
     "name": "",
     "parents": []
    },
    "colab": {
     "base_uri": "https://localhost:8080/"
    },
    "id": "W6RHOPKBmJNW",
    "outputId": "637dedd3-6cfb-460c-a542-fc530d220753"
   },
   "outputs": [
    {
     "data": {
      "text/plain": [
       "Order ID            545\n",
       "Product             545\n",
       "Quantity Ordered    545\n",
       "Price Each          545\n",
       "Order Date          545\n",
       "Purchase Address    545\n",
       "dtype: int64"
      ]
     },
     "execution_count": 7,
     "metadata": {},
     "output_type": "execute_result"
    }
   ],
   "source": [
    "all_data.isnull().sum()"
   ]
  },
  {
   "cell_type": "code",
   "execution_count": null,
   "metadata": {
    "canvas": {
     "comments": [],
     "componentType": "CodeCell",
     "copiedOriginId": null,
     "diskcache": false,
     "headerColor": "none",
     "id": "33034725-5f1a-49ea-b134-1850cc0dcd9e",
     "isComponent": false,
     "name": "",
     "parents": []
    },
    "id": "FMhJYiAdmM8_"
   },
   "outputs": [],
   "source": [
    "#Supprimer les valeurs manquantes\n",
    "all_data.dropna(how='all',inplace=True)"
   ]
  },
  {
   "cell_type": "markdown",
   "metadata": {
    "canvas": {
     "comments": [],
     "componentType": "CodeCell",
     "copiedOriginId": null,
     "diskcache": false,
     "headerColor": "none",
     "id": "1455420a-f985-47a1-8901-d55ad223dc13",
     "isComponent": false,
     "name": "",
     "parents": []
    },
    "id": "T9_owpg6mYuM"
   },
   "source": [
    "1.   **Quel est le mois dans lequel nous avons réalisé le meilleur chiffre d'affaire**\n"
   ]
  },
  {
   "cell_type": "code",
   "execution_count": null,
   "metadata": {
    "canvas": {
     "comments": [],
     "componentType": "CodeCell",
     "copiedOriginId": null,
     "diskcache": false,
     "headerColor": "none",
     "id": "59cd1036-1633-4ba3-a0c6-acd6488099db",
     "isComponent": false,
     "name": "",
     "parents": []
    },
    "colab": {
     "base_uri": "https://localhost:8080/"
    },
    "id": "dMKEZxl_mMxk",
    "outputId": "63059263-683b-44ec-9801-8ea8df6731d1"
   },
   "outputs": [
    {
     "data": {
      "text/plain": [
       "0         11/21/19 09:54\n",
       "1         11/17/19 10:03\n",
       "2         11/19/19 14:56\n",
       "3         11/25/19 22:24\n",
       "4         11/09/19 13:56\n",
       "               ...      \n",
       "186845    02/12/19 22:02\n",
       "186846    02/04/19 20:44\n",
       "186847    02/24/19 06:31\n",
       "186848    02/24/19 19:09\n",
       "186849    02/26/19 17:15\n",
       "Name: Order Date, Length: 186305, dtype: object"
      ]
     },
     "execution_count": 9,
     "metadata": {},
     "output_type": "execute_result"
    }
   ],
   "source": [
    "all_data['Order Date']"
   ]
  },
  {
   "cell_type": "code",
   "execution_count": null,
   "metadata": {
    "canvas": {
     "comments": [],
     "componentType": "CodeCell",
     "copiedOriginId": null,
     "diskcache": false,
     "headerColor": "none",
     "id": "356efbb8-1026-46a1-961d-ac20f6ec17c5",
     "isComponent": false,
     "name": "",
     "parents": []
    },
    "id": "6GadDmJJm7L1"
   },
   "outputs": [],
   "source": [
    "def month(x):\n",
    "  return x.split('/')[0]\n",
    "\n"
   ]
  },
  {
   "cell_type": "code",
   "execution_count": null,
   "metadata": {
    "canvas": {
     "comments": [],
     "componentType": "CodeCell",
     "copiedOriginId": null,
     "diskcache": false,
     "headerColor": "none",
     "id": "eb86f060-6e95-4dde-89ba-0b1f39d438e0",
     "isComponent": false,
     "name": "",
     "parents": []
    },
    "colab": {
     "base_uri": "https://localhost:8080/"
    },
    "id": "6pfZKgBFnUpM",
    "outputId": "383f4825-15a9-4e7b-f2d7-68179f7a0f15"
   },
   "outputs": [
    {
     "data": {
      "text/plain": [
       "0         11\n",
       "1         11\n",
       "2         11\n",
       "3         11\n",
       "4         11\n",
       "          ..\n",
       "186845    02\n",
       "186846    02\n",
       "186847    02\n",
       "186848    02\n",
       "186849    02\n",
       "Name: Months, Length: 186305, dtype: object"
      ]
     },
     "execution_count": 13,
     "metadata": {},
     "output_type": "execute_result"
    }
   ],
   "source": [
    "all_data['Months'] = all_data['Order Date'].apply(month)\n",
    "all_data['Months']"
   ]
  },
  {
   "cell_type": "code",
   "execution_count": null,
   "metadata": {
    "canvas": {
     "comments": [],
     "componentType": "CodeCell",
     "copiedOriginId": null,
     "diskcache": false,
     "headerColor": "none",
     "id": "d5f2d0e8-37fd-481e-b6ce-b81ae9045281",
     "isComponent": false,
     "name": "",
     "parents": []
    },
    "colab": {
     "base_uri": "https://localhost:8080/"
    },
    "id": "NkXm60UvndZx",
    "outputId": "eae6ec45-cd7e-47fa-9aa1-c7d071f01f4c"
   },
   "outputs": [
    {
     "data": {
      "text/plain": [
       "array(['11', '12', 'Order Date', '05', '06', '10', '09', '07', '08', '01',\n",
       "       '04', '03', '02'], dtype=object)"
      ]
     },
     "execution_count": 14,
     "metadata": {},
     "output_type": "execute_result"
    }
   ],
   "source": [
    "all_data['Months'].unique()"
   ]
  },
  {
   "cell_type": "code",
   "execution_count": null,
   "metadata": {
    "canvas": {
     "comments": [],
     "componentType": "CodeCell",
     "copiedOriginId": null,
     "diskcache": false,
     "headerColor": "none",
     "id": "ef396516-a236-418f-a63d-4dc8f5df3c3c",
     "isComponent": false,
     "name": "",
     "parents": []
    },
    "colab": {
     "base_uri": "https://localhost:8080/"
    },
    "id": "vcMcfmurnmGy",
    "outputId": "e2991a9d-2a34-4118-ca03-1209fa623584"
   },
   "outputs": [
    {
     "data": {
      "text/plain": [
       "array(['11', '12', '05', '06', '10', '09', '07', '08', '01', '04', '03',\n",
       "       '02'], dtype=object)"
      ]
     },
     "execution_count": 15,
     "metadata": {},
     "output_type": "execute_result"
    }
   ],
   "source": [
    "all_data = all_data[all_data['Months'] != 'Order Date']\n",
    "all_data['Months'].unique()"
   ]
  },
  {
   "cell_type": "code",
   "execution_count": null,
   "metadata": {
    "canvas": {
     "comments": [],
     "componentType": "CodeCell",
     "copiedOriginId": null,
     "diskcache": false,
     "headerColor": "none",
     "id": "ef797764-4342-4054-b996-ace47e3c872f",
     "isComponent": false,
     "name": "",
     "parents": []
    },
    "id": "-b9Q81wrn8gb"
   },
   "outputs": [],
   "source": [
    "all_data['Months']= all_data['Months'].astype(int)"
   ]
  },
  {
   "cell_type": "code",
   "execution_count": null,
   "metadata": {
    "canvas": {
     "comments": [],
     "componentType": "CodeCell",
     "copiedOriginId": null,
     "diskcache": false,
     "headerColor": "none",
     "id": "03d3a85f-e91d-48cb-b91d-217bb4481c71",
     "isComponent": false,
     "name": "",
     "parents": []
    },
    "id": "KLUsprjIn_gc"
   },
   "outputs": [],
   "source": [
    "all_data['Price Each'] = all_data['Price Each'].astype(float)\n",
    "all_data['Quantity Ordered'] = all_data['Quantity Ordered'].astype(float)\n"
   ]
  },
  {
   "cell_type": "code",
   "execution_count": null,
   "metadata": {
    "canvas": {
     "comments": [],
     "componentType": "CodeCell",
     "copiedOriginId": null,
     "diskcache": false,
     "headerColor": "none",
     "id": "56bda6e0-3f59-4fe6-9ac3-85793b39abea",
     "isComponent": false,
     "name": "",
     "parents": []
    },
    "colab": {
     "base_uri": "https://localhost:8080/"
    },
    "id": "DUpGR-RloFac",
    "outputId": "018ad3f6-5185-4bef-b7a3-6ad03faa1519"
   },
   "outputs": [
    {
     "data": {
      "text/plain": [
       "Months\n",
       "1     1822256.73\n",
       "2     2202022.42\n",
       "3     2807100.38\n",
       "4     3390670.24\n",
       "5     3152606.75\n",
       "6     2577802.26\n",
       "7     2647775.76\n",
       "8     2244467.88\n",
       "9     2097560.13\n",
       "10    3736726.88\n",
       "11    3199603.20\n",
       "12    4613443.34\n",
       "Name: Sales, dtype: float64"
      ]
     },
     "execution_count": 23,
     "metadata": {},
     "output_type": "execute_result"
    }
   ],
   "source": [
    "all_data['Sales'] = all_data['Price Each']* all_data['Quantity Ordered']\n",
    "all_data.groupby('Months')['Sales'].sum()"
   ]
  },
  {
   "cell_type": "code",
   "execution_count": null,
   "metadata": {
    "canvas": {
     "comments": [],
     "componentType": "CodeCell",
     "copiedOriginId": null,
     "diskcache": false,
     "headerColor": "none",
     "id": "9ce0fba8-6d3a-44af-9645-178ff3b8ed85",
     "isComponent": false,
     "name": "",
     "parents": []
    },
    "colab": {
     "base_uri": "https://localhost:8080/",
     "height": 290
    },
    "id": "pUY5O5gJosIi",
    "outputId": "cd11a845-f087-4c90-9f41-7072ec4c6269"
   },
   "outputs": [
    {
     "data": {
      "image/png": "[encoded data removed]",
      "text/plain": [
       "<Figure size 432x288 with 1 Axes>"
      ]
     },
     "metadata": {
      "needs_background": "light"
     },
     "output_type": "display_data"
    }
   ],
   "source": [
    "month = range(1,13)\n",
    "plt.bar(month,all_data.groupby('Months')['Sales'].sum())\n",
    "plt.xticks(month)\n",
    "plt.xlabel('Number of month')\n",
    "plt.ylabel('Sales by months')\n",
    "plt.show()"
   ]
  },
  {
   "cell_type": "markdown",
   "metadata": {
    "canvas": {
     "comments": [],
     "componentType": "CodeCell",
     "copiedOriginId": null,
     "diskcache": false,
     "headerColor": "none",
     "id": "e318043c-ea26-4378-a6f3-3bd02aa20614",
     "isComponent": false,
     "name": "",
     "parents": []
    },
    "id": "s0lnaVc-qbeR"
   },
   "source": [
    "2.   **Dans quelle ville nous avons réalisé un maximum de commande**"
   ]
  },
  {
   "cell_type": "code",
   "execution_count": null,
   "metadata": {
    "canvas": {
     "comments": [],
     "componentType": "CodeCell",
     "copiedOriginId": null,
     "diskcache": false,
     "headerColor": "none",
     "id": "3bd8fb59-0e85-4701-bd3a-b3d531cedf2f",
     "isComponent": false,
     "name": "",
     "parents": []
    },
    "colab": {
     "base_uri": "https://localhost:8080/",
     "height": 971
    },
    "id": "L5U_fHzgp5xQ",
    "outputId": "b1b0563f-f549-47b2-8a51-b86bd7ddda91"
   },
   "outputs": [
    {
     "data": {
      "text/html": [
       "\n",
       "  <div id=\"df-222b75e9-e973-40f1-b0f8-7b0945ba2d5c\">\n",
       "    <div class=\"colab-df-container\">\n",
       "      <div>\n",
       "<style scoped>\n",
       "    .dataframe tbody tr th:only-of-type {\n",
       "        vertical-align: middle;\n",
       "    }\n",
       "\n",
       "    .dataframe tbody tr th {\n",
       "        vertical-align: top;\n",
       "    }\n",
       "\n",
       "    .dataframe thead th {\n",
       "        text-align: right;\n",
       "    }\n",
       "</style>\n",
       "<table border=\"1\" class=\"dataframe\">\n",
       "  <thead>\n",
       "    <tr style=\"text-align: right;\">\n",
       "      <th></th>\n",
       "      <th>Order ID</th>\n",
       "      <th>Product</th>\n",
       "      <th>Quantity Ordered</th>\n",
       "      <th>Price Each</th>\n",
       "      <th>Order Date</th>\n",
       "      <th>Purchase Address</th>\n",
       "      <th>Months</th>\n",
       "      <th>Sales</th>\n",
       "    </tr>\n",
       "  </thead>\n",
       "  <tbody>\n",
       "    <tr>\n",
       "      <th>0</th>\n",
       "      <td>278797</td>\n",
       "      <td>Wired Headphones</td>\n",
       "      <td>1.0</td>\n",
       "      <td>11.99</td>\n",
       "      <td>11/21/19 09:54</td>\n",
       "      <td>46 Park St, New York City, NY 10001</td>\n",
       "      <td>11</td>\n",
       "      <td>11.99</td>\n",
       "    </tr>\n",
       "    <tr>\n",
       "      <th>1</th>\n",
       "      <td>278798</td>\n",
       "      <td>USB-C Charging Cable</td>\n",
       "      <td>2.0</td>\n",
       "      <td>11.95</td>\n",
       "      <td>11/17/19 10:03</td>\n",
       "      <td>962 Hickory St, Austin, TX 73301</td>\n",
       "      <td>11</td>\n",
       "      <td>23.90</td>\n",
       "    </tr>\n",
       "    <tr>\n",
       "      <th>2</th>\n",
       "      <td>278799</td>\n",
       "      <td>Apple Airpods Headphones</td>\n",
       "      <td>1.0</td>\n",
       "      <td>150.00</td>\n",
       "      <td>11/19/19 14:56</td>\n",
       "      <td>464 Cherry St, Los Angeles, CA 90001</td>\n",
       "      <td>11</td>\n",
       "      <td>150.00</td>\n",
       "    </tr>\n",
       "    <tr>\n",
       "      <th>3</th>\n",
       "      <td>278800</td>\n",
       "      <td>27in FHD Monitor</td>\n",
       "      <td>1.0</td>\n",
       "      <td>149.99</td>\n",
       "      <td>11/25/19 22:24</td>\n",
       "      <td>649 10th St, Seattle, WA 98101</td>\n",
       "      <td>11</td>\n",
       "      <td>149.99</td>\n",
       "    </tr>\n",
       "    <tr>\n",
       "      <th>4</th>\n",
       "      <td>278801</td>\n",
       "      <td>Bose SoundSport Headphones</td>\n",
       "      <td>1.0</td>\n",
       "      <td>99.99</td>\n",
       "      <td>11/09/19 13:56</td>\n",
       "      <td>522 Hill St, Boston, MA 02215</td>\n",
       "      <td>11</td>\n",
       "      <td>99.99</td>\n",
       "    </tr>\n",
       "    <tr>\n",
       "      <th>...</th>\n",
       "      <td>...</td>\n",
       "      <td>...</td>\n",
       "      <td>...</td>\n",
       "      <td>...</td>\n",
       "      <td>...</td>\n",
       "      <td>...</td>\n",
       "      <td>...</td>\n",
       "      <td>...</td>\n",
       "    </tr>\n",
       "    <tr>\n",
       "      <th>186845</th>\n",
       "      <td>162004</td>\n",
       "      <td>Apple Airpods Headphones</td>\n",
       "      <td>1.0</td>\n",
       "      <td>150.00</td>\n",
       "      <td>02/12/19 22:02</td>\n",
       "      <td>227 Church St, San Francisco, CA 94016</td>\n",
       "      <td>2</td>\n",
       "      <td>150.00</td>\n",
       "    </tr>\n",
       "    <tr>\n",
       "      <th>186846</th>\n",
       "      <td>162005</td>\n",
       "      <td>AAA Batteries (4-pack)</td>\n",
       "      <td>2.0</td>\n",
       "      <td>2.99</td>\n",
       "      <td>02/04/19 20:44</td>\n",
       "      <td>417 Jefferson St, Los Angeles, CA 90001</td>\n",
       "      <td>2</td>\n",
       "      <td>5.98</td>\n",
       "    </tr>\n",
       "    <tr>\n",
       "      <th>186847</th>\n",
       "      <td>162006</td>\n",
       "      <td>USB-C Charging Cable</td>\n",
       "      <td>1.0</td>\n",
       "      <td>11.95</td>\n",
       "      <td>02/24/19 06:31</td>\n",
       "      <td>498 8th St, Atlanta, GA 30301</td>\n",
       "      <td>2</td>\n",
       "      <td>11.95</td>\n",
       "    </tr>\n",
       "    <tr>\n",
       "      <th>186848</th>\n",
       "      <td>162007</td>\n",
       "      <td>USB-C Charging Cable</td>\n",
       "      <td>1.0</td>\n",
       "      <td>11.95</td>\n",
       "      <td>02/24/19 19:09</td>\n",
       "      <td>715 7th St, Dallas, TX 75001</td>\n",
       "      <td>2</td>\n",
       "      <td>11.95</td>\n",
       "    </tr>\n",
       "    <tr>\n",
       "      <th>186849</th>\n",
       "      <td>162008</td>\n",
       "      <td>27in FHD Monitor</td>\n",
       "      <td>1.0</td>\n",
       "      <td>149.99</td>\n",
       "      <td>02/26/19 17:15</td>\n",
       "      <td>677 West St, Los Angeles, CA 90001</td>\n",
       "      <td>2</td>\n",
       "      <td>149.99</td>\n",
       "    </tr>\n",
       "  </tbody>\n",
       "</table>\n",
       "<p>185950 rows × 8 columns</p>\n",
       "</div>\n",
       "      <button class=\"colab-df-convert\" onclick=\"convertToInteractive('df-222b75e9-e973-40f1-b0f8-7b0945ba2d5c')\"\n",
       "              title=\"Convert this dataframe to an interactive table.\"\n",
       "              style=\"display:none;\">\n",
       "        \n",
       "  <svg xmlns=\"http://www.w3.org/2000/svg\" height=\"24px\"viewBox=\"0 0 24 24\"\n",
       "       width=\"24px\">\n",
       "    <path d=\"M0 0h24v24H0V0z\" fill=\"none\"/>\n",
       "    <path d=\"M18.56 5.44l.94 2.06.94-2.06 2.06-.94-2.06-.94-.94-2.06-.94 2.06-2.06.94zm-11 1L8.5 8.5l.94-2.06 2.06-.94-2.06-.94L8.5 2.5l-.94 2.06-2.06.94zm10 10l.94 2.06.94-2.06 2.06-.94-2.06-.94-.94-2.06-.94 2.06-2.06.94z\"/><path d=\"M17.41 7.96l-1.37-1.37c-.4-.4-.92-.59-1.43-.59-.52 0-1.04.2-1.43.59L10.3 9.45l-7.72 7.72c-.78.78-.78 2.05 0 2.83L4 21.41c.39.39.9.59 1.41.59.51 0 1.02-.2 1.41-.59l7.78-7.78 2.81-2.81c.8-.78.8-2.07 0-2.86zM5.41 20L4 18.59l7.72-7.72 1.47 1.35L5.41 20z\"/>\n",
       "  </svg>\n",
       "      </button>\n",
       "      \n",
       "  <style>\n",
       "    .colab-df-container {\n",
       "      display:flex;\n",
       "      flex-wrap:wrap;\n",
       "      gap: 12px;\n",
       "    }\n",
       "\n",
       "    .colab-df-convert {\n",
       "      background-color: #E8F0FE;\n",
       "      border: none;\n",
       "      border-radius: 50%;\n",
       "      cursor: pointer;\n",
       "      display: none;\n",
       "      fill: #1967D2;\n",
       "      height: 32px;\n",
       "      padding: 0 0 0 0;\n",
       "      width: 32px;\n",
       "    }\n",
       "\n",
       "    .colab-df-convert:hover {\n",
       "      background-color: #E2EBFA;\n",
       "      box-shadow: 0px 1px 2px rgba(60, 64, 67, 0.3), 0px 1px 3px 1px rgba(60, 64, 67, 0.15);\n",
       "      fill: #174EA6;\n",
       "    }\n",
       "\n",
       "    [theme=dark] .colab-df-convert {\n",
       "      background-color: #3B4455;\n",
       "      fill: #D2E3FC;\n",
       "    }\n",
       "\n",
       "    [theme=dark] .colab-df-convert:hover {\n",
       "      background-color: #434B5C;\n",
       "      box-shadow: 0px 1px 3px 1px rgba(0, 0, 0, 0.15);\n",
       "      filter: drop-shadow(0px 1px 2px rgba(0, 0, 0, 0.3));\n",
       "      fill: #FFFFFF;\n",
       "    }\n",
       "  </style>\n",
       "\n",
       "      <script>\n",
       "        const buttonEl =\n",
       "          document.querySelector('#df-222b75e9-e973-40f1-b0f8-7b0945ba2d5c button.colab-df-convert');\n",
       "        buttonEl.style.display =\n",
       "          google.colab.kernel.accessAllowed ? 'block' : 'none';\n",
       "\n",
       "        async function convertToInteractive(key) {\n",
       "          const element = document.querySelector('#df-222b75e9-e973-40f1-b0f8-7b0945ba2d5c');\n",
       "          const dataTable =\n",
       "            await google.colab.kernel.invokeFunction('convertToInteractive',\n",
       "                                                     [key], {});\n",
       "          if (!dataTable) return;\n",
       "\n",
       "          const docLinkHtml = 'Like what you see? Visit the ' +\n",
       "            '<a target=\"_blank\" href=https://colab.research.google.com/notebooks/data_table.ipynb>data table notebook</a>'\n",
       "            + ' to learn more about interactive tables.';\n",
       "          element.innerHTML = '';\n",
       "          dataTable['output_type'] = 'display_data';\n",
       "          await google.colab.output.renderOutput(dataTable, element);\n",
       "          const docLink = document.createElement('div');\n",
       "          docLink.innerHTML = docLinkHtml;\n",
       "          element.appendChild(docLink);\n",
       "        }\n",
       "      </script>\n",
       "    </div>\n",
       "  </div>\n",
       "  "
      ],
      "text/plain": [
       "       Order ID                     Product  Quantity Ordered  Price Each  \\\n",
       "0        278797            Wired Headphones               1.0       11.99   \n",
       "1        278798        USB-C Charging Cable               2.0       11.95   \n",
       "2        278799    Apple Airpods Headphones               1.0      150.00   \n",
       "3        278800            27in FHD Monitor               1.0      149.99   \n",
       "4        278801  Bose SoundSport Headphones               1.0       99.99   \n",
       "...         ...                         ...               ...         ...   \n",
       "186845   162004    Apple Airpods Headphones               1.0      150.00   \n",
       "186846   162005      AAA Batteries (4-pack)               2.0        2.99   \n",
       "186847   162006        USB-C Charging Cable               1.0       11.95   \n",
       "186848   162007        USB-C Charging Cable               1.0       11.95   \n",
       "186849   162008            27in FHD Monitor               1.0      149.99   \n",
       "\n",
       "            Order Date                         Purchase Address  Months  \\\n",
       "0       11/21/19 09:54      46 Park St, New York City, NY 10001      11   \n",
       "1       11/17/19 10:03         962 Hickory St, Austin, TX 73301      11   \n",
       "2       11/19/19 14:56     464 Cherry St, Los Angeles, CA 90001      11   \n",
       "3       11/25/19 22:24           649 10th St, Seattle, WA 98101      11   \n",
       "4       11/09/19 13:56            522 Hill St, Boston, MA 02215      11   \n",
       "...                ...                                      ...     ...   \n",
       "186845  02/12/19 22:02   227 Church St, San Francisco, CA 94016       2   \n",
       "186846  02/04/19 20:44  417 Jefferson St, Los Angeles, CA 90001       2   \n",
       "186847  02/24/19 06:31            498 8th St, Atlanta, GA 30301       2   \n",
       "186848  02/24/19 19:09             715 7th St, Dallas, TX 75001       2   \n",
       "186849  02/26/19 17:15       677 West St, Los Angeles, CA 90001       2   \n",
       "\n",
       "         Sales  \n",
       "0        11.99  \n",
       "1        23.90  \n",
       "2       150.00  \n",
       "3       149.99  \n",
       "4        99.99  \n",
       "...        ...  \n",
       "186845  150.00  \n",
       "186846    5.98  \n",
       "186847   11.95  \n",
       "186848   11.95  \n",
       "186849  149.99  \n",
       "\n",
       "[185950 rows x 8 columns]"
      ]
     },
     "execution_count": 29,
     "metadata": {},
     "output_type": "execute_result"
    }
   ],
   "source": [
    "all_data"
   ]
  },
  {
   "cell_type": "code",
   "execution_count": null,
   "metadata": {
    "canvas": {
     "comments": [],
     "componentType": "CodeCell",
     "copiedOriginId": null,
     "diskcache": false,
     "headerColor": "none",
     "id": "579c9d1c-2f31-4500-9f28-42ea28a9b734",
     "isComponent": false,
     "name": "",
     "parents": []
    },
    "colab": {
     "base_uri": "https://localhost:8080/"
    },
    "id": "grIZoj_4qc7p",
    "outputId": "69187744-8810-4a81-fea0-711526b1583e"
   },
   "outputs": [
    {
     "data": {
      "text/plain": [
       "0          New York City\n",
       "1                 Austin\n",
       "2            Los Angeles\n",
       "3                Seattle\n",
       "4                 Boston\n",
       "               ...      \n",
       "186845     San Francisco\n",
       "186846       Los Angeles\n",
       "186847           Atlanta\n",
       "186848            Dallas\n",
       "186849       Los Angeles\n",
       "Name: Ville, Length: 185950, dtype: object"
      ]
     },
     "execution_count": 33,
     "metadata": {},
     "output_type": "execute_result"
    }
   ],
   "source": [
    "def ville(x):\n",
    "  return x.split(',')[1]\n",
    "\n",
    "all_data['Ville'] = all_data['Purchase Address'].apply(ville)\n",
    "all_data['Ville']"
   ]
  },
  {
   "cell_type": "code",
   "execution_count": null,
   "metadata": {
    "canvas": {
     "comments": [],
     "componentType": "CodeCell",
     "copiedOriginId": null,
     "diskcache": false,
     "headerColor": "none",
     "id": "d3656e8a-1e45-4832-a54d-3f2d172d8627",
     "isComponent": false,
     "name": "",
     "parents": []
    },
    "colab": {
     "base_uri": "https://localhost:8080/"
    },
    "id": "Mp7IvIMkrCrf",
    "outputId": "ec908e18-a515-4268-fb24-d3e6757d44cf"
   },
   "outputs": [
    {
     "data": {
      "text/plain": [
       "Ville\n",
       " Atlanta          14881\n",
       " Austin            9905\n",
       " Boston           19934\n",
       " Dallas           14820\n",
       " Los Angeles      29605\n",
       " New York City    24876\n",
       " Portland         12465\n",
       " San Francisco    44732\n",
       " Seattle          14732\n",
       "Name: Ville, dtype: int64"
      ]
     },
     "execution_count": 34,
     "metadata": {},
     "output_type": "execute_result"
    }
   ],
   "source": [
    "all_data.groupby('Ville')['Ville'].count()"
   ]
  },
  {
   "cell_type": "code",
   "execution_count": null,
   "metadata": {
    "canvas": {
     "comments": [],
     "componentType": "CodeCell",
     "copiedOriginId": null,
     "diskcache": false,
     "headerColor": "none",
     "id": "9d358d56-a26c-4b22-8729-dfd1e67ff25a",
     "isComponent": false,
     "name": "",
     "parents": []
    },
    "colab": {
     "base_uri": "https://localhost:8080/",
     "height": 341
    },
    "id": "UV68iZbxrLUp",
    "outputId": "78c1ec42-74a1-4009-ddf7-1f83563022bc"
   },
   "outputs": [
    {
     "data": {
      "image/png": "[encoded data removed]",
      "text/plain": [
       "<Figure size 432x288 with 1 Axes>"
      ]
     },
     "metadata": {
      "needs_background": "light"
     },
     "output_type": "display_data"
    }
   ],
   "source": [
    "plt.bar(all_data.groupby('Ville')['Ville'].count().index,all_data.groupby('Ville')['Ville'].count())\n",
    "plt.xticks(rotation = 'vertical')\n",
    "plt.xlabel('Ville')\n",
    "plt.ylabel('Nombre de commande reçu')\n",
    "plt.show()"
   ]
  },
  {
   "cell_type": "markdown",
   "metadata": {
    "canvas": {
     "comments": [],
     "componentType": "CodeCell",
     "copiedOriginId": null,
     "diskcache": false,
     "headerColor": "none",
     "id": "58394d25-da58-4e59-b486-999cd9a1391e",
     "isComponent": false,
     "name": "",
     "parents": []
    },
    "id": "D2deOj53sc21"
   },
   "source": [
    " **En quel moment doit on faire une camapgne publicitaire pour avoir plus de vente**"
   ]
  },
  {
   "cell_type": "code",
   "execution_count": null,
   "metadata": {
    "canvas": {
     "comments": [],
     "componentType": "CodeCell",
     "copiedOriginId": null,
     "diskcache": false,
     "headerColor": "none",
     "id": "3150d009-5d3e-4d37-b458-2ba4e4d9178a",
     "isComponent": false,
     "name": "",
     "parents": []
    },
    "colab": {
     "base_uri": "https://localhost:8080/"
    },
    "id": "C4Ta5R8osUlP",
    "outputId": "e39d6820-8dda-450f-d36d-58d6f4aeebdf"
   },
   "outputs": [
    {
     "data": {
      "text/plain": [
       "0          9\n",
       "1         10\n",
       "2         14\n",
       "3         22\n",
       "4         13\n",
       "          ..\n",
       "186845    22\n",
       "186846    20\n",
       "186847     6\n",
       "186848    19\n",
       "186849    17\n",
       "Name: Hour, Length: 185950, dtype: int64"
      ]
     },
     "execution_count": 42,
     "metadata": {},
     "output_type": "execute_result"
    }
   ],
   "source": [
    "all_data['Hour'] =  pd.to_datetime(all_data['Order Date']).dt.hour\n",
    "all_data['Hour']  "
   ]
  },
  {
   "cell_type": "code",
   "execution_count": null,
   "metadata": {
    "canvas": {
     "comments": [],
     "componentType": "CodeCell",
     "copiedOriginId": null,
     "diskcache": false,
     "headerColor": "none",
     "id": "c97df5ac-51ff-4a68-af88-84d1488dab43",
     "isComponent": false,
     "name": "",
     "parents": []
    },
    "id": "E7a4JxRks-TY"
   },
   "outputs": [],
   "source": [
    "keys = []\n",
    "hours = []\n",
    "for key, hour in all_data.groupby('Hour'):\n",
    "  keys.append(key)\n",
    "  hours.append(len(hour))\n",
    " "
   ]
  },
  {
   "cell_type": "code",
   "execution_count": null,
   "metadata": {
    "canvas": {
     "comments": [],
     "componentType": "CodeCell",
     "copiedOriginId": null,
     "diskcache": false,
     "headerColor": "none",
     "id": "6cd80aa2-5f48-453f-9714-54d474a070b0",
     "isComponent": false,
     "name": "",
     "parents": []
    },
    "colab": {
     "base_uri": "https://localhost:8080/",
     "height": 280
    },
    "id": "giGrIJQ5tkk3",
    "outputId": "919d1d50-f7c6-4d6f-b4fd-59a1ad46fc16"
   },
   "outputs": [
    {
     "data": {
      "image/png": "[encoded data removed]",
      "text/plain": [
       "<Figure size 432x288 with 1 Axes>"
      ]
     },
     "metadata": {
      "needs_background": "light"
     },
     "output_type": "display_data"
    }
   ],
   "source": [
    "plt.plot(keys,hours)\n",
    "plt.xlabel('Heure de la journée')\n",
    "plt.ylabel('Nombre de commande')\n",
    "plt.show()"
   ]
  },
  {
   "cell_type": "markdown",
   "metadata": {
    "canvas": {
     "comments": [],
     "componentType": "CodeCell",
     "copiedOriginId": null,
     "diskcache": false,
     "headerColor": "none",
     "id": "5f9b3956-f947-48a6-8e3f-abd81d004acd",
     "isComponent": false,
     "name": "",
     "parents": []
    },
    "id": "hJIH36R4vVAA"
   },
   "source": [
    "**Quels produits se vend le plus**"
   ]
  },
  {
   "cell_type": "code",
   "execution_count": null,
   "metadata": {
    "canvas": {
     "comments": [],
     "componentType": "CodeCell",
     "copiedOriginId": null,
     "diskcache": false,
     "headerColor": "none",
     "id": "08d5bc2e-b33a-4bf2-99df-7ac588b9c2cd",
     "isComponent": false,
     "name": "",
     "parents": []
    },
    "colab": {
     "base_uri": "https://localhost:8080/",
     "height": 1000
    },
    "id": "9iwduSNptniV",
    "outputId": "f98a8e2a-6250-4750-cfa2-fa09f99d24f9"
   },
   "outputs": [
    {
     "data": {
      "text/html": [
       "\n",
       "  <div id=\"df-ee1e2fca-2bb7-4c23-8aa6-f53a5c90755d\">\n",
       "    <div class=\"colab-df-container\">\n",
       "      <div>\n",
       "<style scoped>\n",
       "    .dataframe tbody tr th:only-of-type {\n",
       "        vertical-align: middle;\n",
       "    }\n",
       "\n",
       "    .dataframe tbody tr th {\n",
       "        vertical-align: top;\n",
       "    }\n",
       "\n",
       "    .dataframe thead th {\n",
       "        text-align: right;\n",
       "    }\n",
       "</style>\n",
       "<table border=\"1\" class=\"dataframe\">\n",
       "  <thead>\n",
       "    <tr style=\"text-align: right;\">\n",
       "      <th></th>\n",
       "      <th>Order ID</th>\n",
       "      <th>Product</th>\n",
       "      <th>Quantity Ordered</th>\n",
       "      <th>Price Each</th>\n",
       "      <th>Order Date</th>\n",
       "      <th>Purchase Address</th>\n",
       "      <th>Months</th>\n",
       "      <th>Sales</th>\n",
       "      <th>Ville</th>\n",
       "      <th>Hour</th>\n",
       "    </tr>\n",
       "  </thead>\n",
       "  <tbody>\n",
       "    <tr>\n",
       "      <th>0</th>\n",
       "      <td>278797</td>\n",
       "      <td>Wired Headphones</td>\n",
       "      <td>1.0</td>\n",
       "      <td>11.99</td>\n",
       "      <td>11/21/19 09:54</td>\n",
       "      <td>46 Park St, New York City, NY 10001</td>\n",
       "      <td>11</td>\n",
       "      <td>11.99</td>\n",
       "      <td>New York City</td>\n",
       "      <td>9</td>\n",
       "    </tr>\n",
       "    <tr>\n",
       "      <th>1</th>\n",
       "      <td>278798</td>\n",
       "      <td>USB-C Charging Cable</td>\n",
       "      <td>2.0</td>\n",
       "      <td>11.95</td>\n",
       "      <td>11/17/19 10:03</td>\n",
       "      <td>962 Hickory St, Austin, TX 73301</td>\n",
       "      <td>11</td>\n",
       "      <td>23.90</td>\n",
       "      <td>Austin</td>\n",
       "      <td>10</td>\n",
       "    </tr>\n",
       "    <tr>\n",
       "      <th>2</th>\n",
       "      <td>278799</td>\n",
       "      <td>Apple Airpods Headphones</td>\n",
       "      <td>1.0</td>\n",
       "      <td>150.00</td>\n",
       "      <td>11/19/19 14:56</td>\n",
       "      <td>464 Cherry St, Los Angeles, CA 90001</td>\n",
       "      <td>11</td>\n",
       "      <td>150.00</td>\n",
       "      <td>Los Angeles</td>\n",
       "      <td>14</td>\n",
       "    </tr>\n",
       "    <tr>\n",
       "      <th>3</th>\n",
       "      <td>278800</td>\n",
       "      <td>27in FHD Monitor</td>\n",
       "      <td>1.0</td>\n",
       "      <td>149.99</td>\n",
       "      <td>11/25/19 22:24</td>\n",
       "      <td>649 10th St, Seattle, WA 98101</td>\n",
       "      <td>11</td>\n",
       "      <td>149.99</td>\n",
       "      <td>Seattle</td>\n",
       "      <td>22</td>\n",
       "    </tr>\n",
       "    <tr>\n",
       "      <th>4</th>\n",
       "      <td>278801</td>\n",
       "      <td>Bose SoundSport Headphones</td>\n",
       "      <td>1.0</td>\n",
       "      <td>99.99</td>\n",
       "      <td>11/09/19 13:56</td>\n",
       "      <td>522 Hill St, Boston, MA 02215</td>\n",
       "      <td>11</td>\n",
       "      <td>99.99</td>\n",
       "      <td>Boston</td>\n",
       "      <td>13</td>\n",
       "    </tr>\n",
       "    <tr>\n",
       "      <th>...</th>\n",
       "      <td>...</td>\n",
       "      <td>...</td>\n",
       "      <td>...</td>\n",
       "      <td>...</td>\n",
       "      <td>...</td>\n",
       "      <td>...</td>\n",
       "      <td>...</td>\n",
       "      <td>...</td>\n",
       "      <td>...</td>\n",
       "      <td>...</td>\n",
       "    </tr>\n",
       "    <tr>\n",
       "      <th>186845</th>\n",
       "      <td>162004</td>\n",
       "      <td>Apple Airpods Headphones</td>\n",
       "      <td>1.0</td>\n",
       "      <td>150.00</td>\n",
       "      <td>02/12/19 22:02</td>\n",
       "      <td>227 Church St, San Francisco, CA 94016</td>\n",
       "      <td>2</td>\n",
       "      <td>150.00</td>\n",
       "      <td>San Francisco</td>\n",
       "      <td>22</td>\n",
       "    </tr>\n",
       "    <tr>\n",
       "      <th>186846</th>\n",
       "      <td>162005</td>\n",
       "      <td>AAA Batteries (4-pack)</td>\n",
       "      <td>2.0</td>\n",
       "      <td>2.99</td>\n",
       "      <td>02/04/19 20:44</td>\n",
       "      <td>417 Jefferson St, Los Angeles, CA 90001</td>\n",
       "      <td>2</td>\n",
       "      <td>5.98</td>\n",
       "      <td>Los Angeles</td>\n",
       "      <td>20</td>\n",
       "    </tr>\n",
       "    <tr>\n",
       "      <th>186847</th>\n",
       "      <td>162006</td>\n",
       "      <td>USB-C Charging Cable</td>\n",
       "      <td>1.0</td>\n",
       "      <td>11.95</td>\n",
       "      <td>02/24/19 06:31</td>\n",
       "      <td>498 8th St, Atlanta, GA 30301</td>\n",
       "      <td>2</td>\n",
       "      <td>11.95</td>\n",
       "      <td>Atlanta</td>\n",
       "      <td>6</td>\n",
       "    </tr>\n",
       "    <tr>\n",
       "      <th>186848</th>\n",
       "      <td>162007</td>\n",
       "      <td>USB-C Charging Cable</td>\n",
       "      <td>1.0</td>\n",
       "      <td>11.95</td>\n",
       "      <td>02/24/19 19:09</td>\n",
       "      <td>715 7th St, Dallas, TX 75001</td>\n",
       "      <td>2</td>\n",
       "      <td>11.95</td>\n",
       "      <td>Dallas</td>\n",
       "      <td>19</td>\n",
       "    </tr>\n",
       "    <tr>\n",
       "      <th>186849</th>\n",
       "      <td>162008</td>\n",
       "      <td>27in FHD Monitor</td>\n",
       "      <td>1.0</td>\n",
       "      <td>149.99</td>\n",
       "      <td>02/26/19 17:15</td>\n",
       "      <td>677 West St, Los Angeles, CA 90001</td>\n",
       "      <td>2</td>\n",
       "      <td>149.99</td>\n",
       "      <td>Los Angeles</td>\n",
       "      <td>17</td>\n",
       "    </tr>\n",
       "  </tbody>\n",
       "</table>\n",
       "<p>185950 rows × 10 columns</p>\n",
       "</div>\n",
       "      <button class=\"colab-df-convert\" onclick=\"convertToInteractive('df-ee1e2fca-2bb7-4c23-8aa6-f53a5c90755d')\"\n",
       "              title=\"Convert this dataframe to an interactive table.\"\n",
       "              style=\"display:none;\">\n",
       "        \n",
       "  <svg xmlns=\"http://www.w3.org/2000/svg\" height=\"24px\"viewBox=\"0 0 24 24\"\n",
       "       width=\"24px\">\n",
       "    <path d=\"M0 0h24v24H0V0z\" fill=\"none\"/>\n",
       "    <path d=\"M18.56 5.44l.94 2.06.94-2.06 2.06-.94-2.06-.94-.94-2.06-.94 2.06-2.06.94zm-11 1L8.5 8.5l.94-2.06 2.06-.94-2.06-.94L8.5 2.5l-.94 2.06-2.06.94zm10 10l.94 2.06.94-2.06 2.06-.94-2.06-.94-.94-2.06-.94 2.06-2.06.94z\"/><path d=\"M17.41 7.96l-1.37-1.37c-.4-.4-.92-.59-1.43-.59-.52 0-1.04.2-1.43.59L10.3 9.45l-7.72 7.72c-.78.78-.78 2.05 0 2.83L4 21.41c.39.39.9.59 1.41.59.51 0 1.02-.2 1.41-.59l7.78-7.78 2.81-2.81c.8-.78.8-2.07 0-2.86zM5.41 20L4 18.59l7.72-7.72 1.47 1.35L5.41 20z\"/>\n",
       "  </svg>\n",
       "      </button>\n",
       "      \n",
       "  <style>\n",
       "    .colab-df-container {\n",
       "      display:flex;\n",
       "      flex-wrap:wrap;\n",
       "      gap: 12px;\n",
       "    }\n",
       "\n",
       "    .colab-df-convert {\n",
       "      background-color: #E8F0FE;\n",
       "      border: none;\n",
       "      border-radius: 50%;\n",
       "      cursor: pointer;\n",
       "      display: none;\n",
       "      fill: #1967D2;\n",
       "      height: 32px;\n",
       "      padding: 0 0 0 0;\n",
       "      width: 32px;\n",
       "    }\n",
       "\n",
       "    .colab-df-convert:hover {\n",
       "      background-color: #E2EBFA;\n",
       "      box-shadow: 0px 1px 2px rgba(60, 64, 67, 0.3), 0px 1px 3px 1px rgba(60, 64, 67, 0.15);\n",
       "      fill: #174EA6;\n",
       "    }\n",
       "\n",
       "    [theme=dark] .colab-df-convert {\n",
       "      background-color: #3B4455;\n",
       "      fill: #D2E3FC;\n",
       "    }\n",
       "\n",
       "    [theme=dark] .colab-df-convert:hover {\n",
       "      background-color: #434B5C;\n",
       "      box-shadow: 0px 1px 3px 1px rgba(0, 0, 0, 0.15);\n",
       "      filter: drop-shadow(0px 1px 2px rgba(0, 0, 0, 0.3));\n",
       "      fill: #FFFFFF;\n",
       "    }\n",
       "  </style>\n",
       "\n",
       "      <script>\n",
       "        const buttonEl =\n",
       "          document.querySelector('#df-ee1e2fca-2bb7-4c23-8aa6-f53a5c90755d button.colab-df-convert');\n",
       "        buttonEl.style.display =\n",
       "          google.colab.kernel.accessAllowed ? 'block' : 'none';\n",
       "\n",
       "        async function convertToInteractive(key) {\n",
       "          const element = document.querySelector('#df-ee1e2fca-2bb7-4c23-8aa6-f53a5c90755d');\n",
       "          const dataTable =\n",
       "            await google.colab.kernel.invokeFunction('convertToInteractive',\n",
       "                                                     [key], {});\n",
       "          if (!dataTable) return;\n",
       "\n",
       "          const docLinkHtml = 'Like what you see? Visit the ' +\n",
       "            '<a target=\"_blank\" href=https://colab.research.google.com/notebooks/data_table.ipynb>data table notebook</a>'\n",
       "            + ' to learn more about interactive tables.';\n",
       "          element.innerHTML = '';\n",
       "          dataTable['output_type'] = 'display_data';\n",
       "          await google.colab.output.renderOutput(dataTable, element);\n",
       "          const docLink = document.createElement('div');\n",
       "          docLink.innerHTML = docLinkHtml;\n",
       "          element.appendChild(docLink);\n",
       "        }\n",
       "      </script>\n",
       "    </div>\n",
       "  </div>\n",
       "  "
      ],
      "text/plain": [
       "       Order ID                     Product  Quantity Ordered  Price Each  \\\n",
       "0        278797            Wired Headphones               1.0       11.99   \n",
       "1        278798        USB-C Charging Cable               2.0       11.95   \n",
       "2        278799    Apple Airpods Headphones               1.0      150.00   \n",
       "3        278800            27in FHD Monitor               1.0      149.99   \n",
       "4        278801  Bose SoundSport Headphones               1.0       99.99   \n",
       "...         ...                         ...               ...         ...   \n",
       "186845   162004    Apple Airpods Headphones               1.0      150.00   \n",
       "186846   162005      AAA Batteries (4-pack)               2.0        2.99   \n",
       "186847   162006        USB-C Charging Cable               1.0       11.95   \n",
       "186848   162007        USB-C Charging Cable               1.0       11.95   \n",
       "186849   162008            27in FHD Monitor               1.0      149.99   \n",
       "\n",
       "            Order Date                         Purchase Address  Months  \\\n",
       "0       11/21/19 09:54      46 Park St, New York City, NY 10001      11   \n",
       "1       11/17/19 10:03         962 Hickory St, Austin, TX 73301      11   \n",
       "2       11/19/19 14:56     464 Cherry St, Los Angeles, CA 90001      11   \n",
       "3       11/25/19 22:24           649 10th St, Seattle, WA 98101      11   \n",
       "4       11/09/19 13:56            522 Hill St, Boston, MA 02215      11   \n",
       "...                ...                                      ...     ...   \n",
       "186845  02/12/19 22:02   227 Church St, San Francisco, CA 94016       2   \n",
       "186846  02/04/19 20:44  417 Jefferson St, Los Angeles, CA 90001       2   \n",
       "186847  02/24/19 06:31            498 8th St, Atlanta, GA 30301       2   \n",
       "186848  02/24/19 19:09             715 7th St, Dallas, TX 75001       2   \n",
       "186849  02/26/19 17:15       677 West St, Los Angeles, CA 90001       2   \n",
       "\n",
       "         Sales           Ville  Hour  \n",
       "0        11.99   New York City     9  \n",
       "1        23.90          Austin    10  \n",
       "2       150.00     Los Angeles    14  \n",
       "3       149.99         Seattle    22  \n",
       "4        99.99          Boston    13  \n",
       "...        ...             ...   ...  \n",
       "186845  150.00   San Francisco    22  \n",
       "186846    5.98     Los Angeles    20  \n",
       "186847   11.95         Atlanta     6  \n",
       "186848   11.95          Dallas    19  \n",
       "186849  149.99     Los Angeles    17  \n",
       "\n",
       "[185950 rows x 10 columns]"
      ]
     },
     "execution_count": 53,
     "metadata": {},
     "output_type": "execute_result"
    }
   ],
   "source": [
    "all_data"
   ]
  },
  {
   "cell_type": "code",
   "execution_count": null,
   "metadata": {
    "canvas": {
     "comments": [],
     "componentType": "CodeCell",
     "copiedOriginId": null,
     "diskcache": false,
     "headerColor": "none",
     "id": "01d3a997-fada-44c2-a41c-3e5d99093c47",
     "isComponent": false,
     "name": "",
     "parents": []
    },
    "colab": {
     "base_uri": "https://localhost:8080/"
    },
    "id": "q-nc6rXnvhf7",
    "outputId": "51836d2b-c4c5-48cc-aec3-66a81f170b7c"
   },
   "outputs": [
    {
     "data": {
      "text/plain": [
       "Product\n",
       "20in Monitor                   4129.0\n",
       "27in 4K Gaming Monitor         6244.0\n",
       "27in FHD Monitor               7550.0\n",
       "34in Ultrawide Monitor         6199.0\n",
       "AA Batteries (4-pack)         27635.0\n",
       "AAA Batteries (4-pack)        31017.0\n",
       "Apple Airpods Headphones      15661.0\n",
       "Bose SoundSport Headphones    13457.0\n",
       "Flatscreen TV                  4819.0\n",
       "Google Phone                   5532.0\n",
       "LG Dryer                        646.0\n",
       "LG Washing Machine              666.0\n",
       "Lightning Charging Cable      23217.0\n",
       "Macbook Pro Laptop             4728.0\n",
       "ThinkPad Laptop                4130.0\n",
       "USB-C Charging Cable          23975.0\n",
       "Vareebadd Phone                2068.0\n",
       "Wired Headphones              20557.0\n",
       "iPhone                         6849.0\n",
       "Name: Quantity Ordered, dtype: float64"
      ]
     },
     "execution_count": 54,
     "metadata": {},
     "output_type": "execute_result"
    }
   ],
   "source": [
    "all_data.groupby('Product')['Quantity Ordered'].sum()"
   ]
  },
  {
   "cell_type": "code",
   "execution_count": null,
   "metadata": {
    "canvas": {
     "comments": [],
     "componentType": "CodeCell",
     "copiedOriginId": null,
     "diskcache": false,
     "headerColor": "none",
     "id": "8c4bb83d-bbc3-47f8-a9f4-abac35e01cb1",
     "isComponent": false,
     "name": "",
     "parents": []
    },
    "colab": {
     "base_uri": "https://localhost:8080/",
     "height": 437
    },
    "id": "UKMVdIvPv5xy",
    "outputId": "ebe86d1a-272a-4e10-beb6-7c469db21dd6"
   },
   "outputs": [
    {
     "data": {
      "text/plain": [
       "<matplotlib.axes._subplots.AxesSubplot at 0x7f4153ad5710>"
      ]
     },
     "execution_count": 56,
     "metadata": {},
     "output_type": "execute_result"
    },
    {
     "data": {
      "image/png": "[encoded data removed]",
      "text/plain": [
       "<Figure size 432x288 with 1 Axes>"
      ]
     },
     "metadata": {
      "needs_background": "light"
     },
     "output_type": "display_data"
    }
   ],
   "source": [
    "all_data.groupby('Product')['Quantity Ordered'].sum().plot(kind='bar')"
   ]
  },
  {
   "cell_type": "code",
   "execution_count": null,
   "metadata": {
    "canvas": {
     "comments": [],
     "componentType": "CodeCell",
     "copiedOriginId": null,
     "diskcache": false,
     "headerColor": "none",
     "id": "ed18502b-f8f9-4cf3-a999-95a084c91299",
     "isComponent": false,
     "name": "",
     "parents": []
    },
    "colab": {
     "base_uri": "https://localhost:8080/"
    },
    "id": "QJ5WfQPGwWBi",
    "outputId": "f597b9f4-6bad-4421-f881-4d7cdda49c2e"
   },
   "outputs": [
    {
     "data": {
      "text/plain": [
       "Product\n",
       "20in Monitor                   109.99\n",
       "27in 4K Gaming Monitor         389.99\n",
       "27in FHD Monitor               149.99\n",
       "34in Ultrawide Monitor         379.99\n",
       "AA Batteries (4-pack)            3.84\n",
       "AAA Batteries (4-pack)           2.99\n",
       "Apple Airpods Headphones       150.00\n",
       "Bose SoundSport Headphones      99.99\n",
       "Flatscreen TV                  300.00\n",
       "Google Phone                   600.00\n",
       "LG Dryer                       600.00\n",
       "LG Washing Machine             600.00\n",
       "Lightning Charging Cable        14.95\n",
       "Macbook Pro Laptop            1700.00\n",
       "ThinkPad Laptop                999.99\n",
       "USB-C Charging Cable            11.95\n",
       "Vareebadd Phone                400.00\n",
       "Wired Headphones                11.99\n",
       "iPhone                         700.00\n",
       "Name: Price Each, dtype: float64"
      ]
     },
     "execution_count": 57,
     "metadata": {},
     "output_type": "execute_result"
    }
   ],
   "source": [
    "all_data.groupby('Product')['Price Each'].mean()"
   ]
  },
  {
   "cell_type": "code",
   "execution_count": null,
   "metadata": {
    "canvas": {
     "comments": [],
     "componentType": "CodeCell",
     "copiedOriginId": null,
     "diskcache": false,
     "headerColor": "none",
     "id": "1ccd3655-7581-499d-aea9-16c35a47919a",
     "isComponent": false,
     "name": "",
     "parents": []
    },
    "id": "ljXuxl81wmi_"
   },
   "outputs": [],
   "source": [
    "produict =  all_data.groupby('Product')['Quantity Ordered'].sum().index\n",
    "quantity =  all_data.groupby('Product')['Quantity Ordered'].sum()\n",
    "\n",
    "prices = all_data.groupby('Product')['Price Each'].mean()"
   ]
  },
  {
   "cell_type": "code",
   "execution_count": null,
   "metadata": {
    "canvas": {
     "comments": [],
     "componentType": "CodeCell",
     "copiedOriginId": null,
     "diskcache": false,
     "headerColor": "none",
     "id": "5af8843a-780d-48cf-9090-d0daa632bd44",
     "isComponent": false,
     "name": "",
     "parents": []
    },
    "colab": {
     "base_uri": "https://localhost:8080/",
     "height": 423
    },
    "id": "gxtm260cw3vQ",
    "outputId": "13d9da76-9738-4273-e977-951783b4e487"
   },
   "outputs": [
    {
     "data": {
      "text/plain": [
       "<Figure size 2880x1728 with 0 Axes>"
      ]
     },
     "metadata": {},
     "output_type": "display_data"
    },
    {
     "data": {
      "image/png": "[encoded data removed]",
      "text/plain": [
       "<Figure size 432x288 with 2 Axes>"
      ]
     },
     "metadata": {
      "needs_background": "light"
     },
     "output_type": "display_data"
    }
   ],
   "source": [
    "plt.figure(figsize=(40,24))\n",
    "\n",
    "fig,ax1 =  plt.subplots()\n",
    "ax2 = ax1.twinx()\n",
    "ax1.bar(produict,quantity,color= 'g')\n",
    "ax2.plot(produict,prices,'b-')\n",
    "ax1.set_xticklabels(produict,rotation= 'vertical')\n",
    "plt.show()"
   ]
  },
  {
   "cell_type": "markdown",
   "metadata": {
    "canvas": {
     "comments": [],
     "componentType": "CodeCell",
     "copiedOriginId": null,
     "diskcache": false,
     "headerColor": "none",
     "id": "75ea7848-2095-4b1a-b58b-97b2164f750e",
     "isComponent": false,
     "name": "",
     "parents": []
    },
    "id": "SXcmjhNnyM2D"
   },
   "source": [
    "4. **Quelles sont les combinaisons de produits qui se vendent le plus**"
   ]
  },
  {
   "cell_type": "code",
   "execution_count": null,
   "metadata": {
    "canvas": {
     "comments": [],
     "componentType": "CodeCell",
     "copiedOriginId": null,
     "diskcache": false,
     "headerColor": "none",
     "id": "03cfa9fc-7aa7-4b51-85af-0259d401bee5",
     "isComponent": false,
     "name": "",
     "parents": []
    },
    "id": "L982Zq4CyVW5"
   },
   "outputs": [],
   "source": [
    " df =all_data[all_data['Order ID'].duplicated(keep=False)]\n",
    " df"
   ]
  },
  {
   "cell_type": "code",
   "execution_count": null,
   "metadata": {
    "canvas": {
     "comments": [],
     "componentType": "CodeCell",
     "copiedOriginId": null,
     "diskcache": false,
     "headerColor": "none",
     "id": "b98218e4-8fae-4e93-8deb-93f05ec22959",
     "isComponent": false,
     "name": "",
     "parents": []
    },
    "colab": {
     "base_uri": "https://localhost:8080/"
    },
    "id": "eEzS3odQyoss",
    "outputId": "ea3b0def-fdb6-4c08-a668-22d50f673857"
   },
   "outputs": [
    {
     "name": "stderr",
     "output_type": "stream",
     "text": [
      "/usr/local/lib/python3.7/dist-packages/ipykernel_launcher.py:1: SettingWithCopyWarning: \n",
      "A value is trying to be set on a copy of a slice from a DataFrame.\n",
      "Try using .loc[row_indexer,col_indexer] = value instead\n",
      "\n",
      "See the caveats in the documentation: https://pandas.pydata.org/pandas-docs/stable/user_guide/indexing.html#returning-a-view-versus-a-copy\n",
      "  \"\"\"Entry point for launching an IPython kernel.\n"
     ]
    }
   ],
   "source": [
    "df['Grouped']=  df.groupby('Order ID')['Product'].transform(lambda x: ','.join(x))"
   ]
  },
  {
   "cell_type": "code",
   "execution_count": null,
   "metadata": {
    "canvas": {
     "comments": [],
     "componentType": "CodeCell",
     "copiedOriginId": null,
     "diskcache": false,
     "headerColor": "none",
     "id": "c8fafad1-756c-4c07-a471-3b2e4bf4704f",
     "isComponent": false,
     "name": "",
     "parents": []
    },
    "colab": {
     "base_uri": "https://localhost:8080/",
     "height": 1000
    },
    "id": "WrztvshBzVz3",
    "outputId": "e0b75603-55e3-41c6-e7fc-fa1a1270cf68"
   },
   "outputs": [
    {
     "data": {
      "text/html": [
       "\n",
       "  <div id=\"df-40281275-abec-4131-8e90-5d6eeb508af6\">\n",
       "    <div class=\"colab-df-container\">\n",
       "      <div>\n",
       "<style scoped>\n",
       "    .dataframe tbody tr th:only-of-type {\n",
       "        vertical-align: middle;\n",
       "    }\n",
       "\n",
       "    .dataframe tbody tr th {\n",
       "        vertical-align: top;\n",
       "    }\n",
       "\n",
       "    .dataframe thead th {\n",
       "        text-align: right;\n",
       "    }\n",
       "</style>\n",
       "<table border=\"1\" class=\"dataframe\">\n",
       "  <thead>\n",
       "    <tr style=\"text-align: right;\">\n",
       "      <th></th>\n",
       "      <th>Order ID</th>\n",
       "      <th>Product</th>\n",
       "      <th>Quantity Ordered</th>\n",
       "      <th>Price Each</th>\n",
       "      <th>Order Date</th>\n",
       "      <th>Purchase Address</th>\n",
       "      <th>Months</th>\n",
       "      <th>Sales</th>\n",
       "      <th>Ville</th>\n",
       "      <th>Hour</th>\n",
       "      <th>Grouped</th>\n",
       "    </tr>\n",
       "  </thead>\n",
       "  <tbody>\n",
       "    <tr>\n",
       "      <th>9</th>\n",
       "      <td>278806</td>\n",
       "      <td>Bose SoundSport Headphones</td>\n",
       "      <td>1.0</td>\n",
       "      <td>99.99</td>\n",
       "      <td>11/19/19 19:12</td>\n",
       "      <td>174 2nd St, Boston, MA 02215</td>\n",
       "      <td>11</td>\n",
       "      <td>99.99</td>\n",
       "      <td>Boston</td>\n",
       "      <td>19</td>\n",
       "      <td>Bose SoundSport Headphones,ThinkPad Laptop</td>\n",
       "    </tr>\n",
       "    <tr>\n",
       "      <th>10</th>\n",
       "      <td>278806</td>\n",
       "      <td>ThinkPad Laptop</td>\n",
       "      <td>1.0</td>\n",
       "      <td>999.99</td>\n",
       "      <td>11/19/19 19:12</td>\n",
       "      <td>174 2nd St, Boston, MA 02215</td>\n",
       "      <td>11</td>\n",
       "      <td>999.99</td>\n",
       "      <td>Boston</td>\n",
       "      <td>19</td>\n",
       "      <td>Bose SoundSport Headphones,ThinkPad Laptop</td>\n",
       "    </tr>\n",
       "    <tr>\n",
       "      <th>15</th>\n",
       "      <td>278811</td>\n",
       "      <td>Wired Headphones</td>\n",
       "      <td>1.0</td>\n",
       "      <td>11.99</td>\n",
       "      <td>11/06/19 16:01</td>\n",
       "      <td>99 Elm St, San Francisco, CA 94016</td>\n",
       "      <td>11</td>\n",
       "      <td>11.99</td>\n",
       "      <td>San Francisco</td>\n",
       "      <td>16</td>\n",
       "      <td>Wired Headphones,Apple Airpods Headphones</td>\n",
       "    </tr>\n",
       "    <tr>\n",
       "      <th>16</th>\n",
       "      <td>278811</td>\n",
       "      <td>Apple Airpods Headphones</td>\n",
       "      <td>1.0</td>\n",
       "      <td>150.00</td>\n",
       "      <td>11/06/19 16:01</td>\n",
       "      <td>99 Elm St, San Francisco, CA 94016</td>\n",
       "      <td>11</td>\n",
       "      <td>150.00</td>\n",
       "      <td>San Francisco</td>\n",
       "      <td>16</td>\n",
       "      <td>Wired Headphones,Apple Airpods Headphones</td>\n",
       "    </tr>\n",
       "    <tr>\n",
       "      <th>24</th>\n",
       "      <td>278819</td>\n",
       "      <td>iPhone</td>\n",
       "      <td>1.0</td>\n",
       "      <td>700.00</td>\n",
       "      <td>11/04/19 06:20</td>\n",
       "      <td>880 Maple St, New York City, NY 10001</td>\n",
       "      <td>11</td>\n",
       "      <td>700.00</td>\n",
       "      <td>New York City</td>\n",
       "      <td>6</td>\n",
       "      <td>iPhone,Apple Airpods Headphones</td>\n",
       "    </tr>\n",
       "    <tr>\n",
       "      <th>...</th>\n",
       "      <td>...</td>\n",
       "      <td>...</td>\n",
       "      <td>...</td>\n",
       "      <td>...</td>\n",
       "      <td>...</td>\n",
       "      <td>...</td>\n",
       "      <td>...</td>\n",
       "      <td>...</td>\n",
       "      <td>...</td>\n",
       "      <td>...</td>\n",
       "      <td>...</td>\n",
       "    </tr>\n",
       "    <tr>\n",
       "      <th>186799</th>\n",
       "      <td>161960</td>\n",
       "      <td>USB-C Charging Cable</td>\n",
       "      <td>2.0</td>\n",
       "      <td>11.95</td>\n",
       "      <td>02/01/19 11:32</td>\n",
       "      <td>867 Cherry St, Boston, MA 02215</td>\n",
       "      <td>2</td>\n",
       "      <td>23.90</td>\n",
       "      <td>Boston</td>\n",
       "      <td>11</td>\n",
       "      <td>Vareebadd Phone,USB-C Charging Cable</td>\n",
       "    </tr>\n",
       "    <tr>\n",
       "      <th>186811</th>\n",
       "      <td>161972</td>\n",
       "      <td>Google Phone</td>\n",
       "      <td>1.0</td>\n",
       "      <td>600.00</td>\n",
       "      <td>02/02/19 21:01</td>\n",
       "      <td>59 Lincoln St, Austin, TX 73301</td>\n",
       "      <td>2</td>\n",
       "      <td>600.00</td>\n",
       "      <td>Austin</td>\n",
       "      <td>21</td>\n",
       "      <td>Google Phone,USB-C Charging Cable</td>\n",
       "    </tr>\n",
       "    <tr>\n",
       "      <th>186812</th>\n",
       "      <td>161972</td>\n",
       "      <td>USB-C Charging Cable</td>\n",
       "      <td>1.0</td>\n",
       "      <td>11.95</td>\n",
       "      <td>02/02/19 21:01</td>\n",
       "      <td>59 Lincoln St, Austin, TX 73301</td>\n",
       "      <td>2</td>\n",
       "      <td>11.95</td>\n",
       "      <td>Austin</td>\n",
       "      <td>21</td>\n",
       "      <td>Google Phone,USB-C Charging Cable</td>\n",
       "    </tr>\n",
       "    <tr>\n",
       "      <th>186837</th>\n",
       "      <td>161997</td>\n",
       "      <td>Google Phone</td>\n",
       "      <td>1.0</td>\n",
       "      <td>600.00</td>\n",
       "      <td>02/28/19 22:15</td>\n",
       "      <td>845 8th St, San Francisco, CA 94016</td>\n",
       "      <td>2</td>\n",
       "      <td>600.00</td>\n",
       "      <td>San Francisco</td>\n",
       "      <td>22</td>\n",
       "      <td>Google Phone,USB-C Charging Cable</td>\n",
       "    </tr>\n",
       "    <tr>\n",
       "      <th>186838</th>\n",
       "      <td>161997</td>\n",
       "      <td>USB-C Charging Cable</td>\n",
       "      <td>1.0</td>\n",
       "      <td>11.95</td>\n",
       "      <td>02/28/19 22:15</td>\n",
       "      <td>845 8th St, San Francisco, CA 94016</td>\n",
       "      <td>2</td>\n",
       "      <td>11.95</td>\n",
       "      <td>San Francisco</td>\n",
       "      <td>22</td>\n",
       "      <td>Google Phone,USB-C Charging Cable</td>\n",
       "    </tr>\n",
       "  </tbody>\n",
       "</table>\n",
       "<p>14649 rows × 11 columns</p>\n",
       "</div>\n",
       "      <button class=\"colab-df-convert\" onclick=\"convertToInteractive('df-40281275-abec-4131-8e90-5d6eeb508af6')\"\n",
       "              title=\"Convert this dataframe to an interactive table.\"\n",
       "              style=\"display:none;\">\n",
       "        \n",
       "  <svg xmlns=\"http://www.w3.org/2000/svg\" height=\"24px\"viewBox=\"0 0 24 24\"\n",
       "       width=\"24px\">\n",
       "    <path d=\"M0 0h24v24H0V0z\" fill=\"none\"/>\n",
       "    <path d=\"M18.56 5.44l.94 2.06.94-2.06 2.06-.94-2.06-.94-.94-2.06-.94 2.06-2.06.94zm-11 1L8.5 8.5l.94-2.06 2.06-.94-2.06-.94L8.5 2.5l-.94 2.06-2.06.94zm10 10l.94 2.06.94-2.06 2.06-.94-2.06-.94-.94-2.06-.94 2.06-2.06.94z\"/><path d=\"M17.41 7.96l-1.37-1.37c-.4-.4-.92-.59-1.43-.59-.52 0-1.04.2-1.43.59L10.3 9.45l-7.72 7.72c-.78.78-.78 2.05 0 2.83L4 21.41c.39.39.9.59 1.41.59.51 0 1.02-.2 1.41-.59l7.78-7.78 2.81-2.81c.8-.78.8-2.07 0-2.86zM5.41 20L4 18.59l7.72-7.72 1.47 1.35L5.41 20z\"/>\n",
       "  </svg>\n",
       "      </button>\n",
       "      \n",
       "  <style>\n",
       "    .colab-df-container {\n",
       "      display:flex;\n",
       "      flex-wrap:wrap;\n",
       "      gap: 12px;\n",
       "    }\n",
       "\n",
       "    .colab-df-convert {\n",
       "      background-color: #E8F0FE;\n",
       "      border: none;\n",
       "      border-radius: 50%;\n",
       "      cursor: pointer;\n",
       "      display: none;\n",
       "      fill: #1967D2;\n",
       "      height: 32px;\n",
       "      padding: 0 0 0 0;\n",
       "      width: 32px;\n",
       "    }\n",
       "\n",
       "    .colab-df-convert:hover {\n",
       "      background-color: #E2EBFA;\n",
       "      box-shadow: 0px 1px 2px rgba(60, 64, 67, 0.3), 0px 1px 3px 1px rgba(60, 64, 67, 0.15);\n",
       "      fill: #174EA6;\n",
       "    }\n",
       "\n",
       "    [theme=dark] .colab-df-convert {\n",
       "      background-color: #3B4455;\n",
       "      fill: #D2E3FC;\n",
       "    }\n",
       "\n",
       "    [theme=dark] .colab-df-convert:hover {\n",
       "      background-color: #434B5C;\n",
       "      box-shadow: 0px 1px 3px 1px rgba(0, 0, 0, 0.15);\n",
       "      filter: drop-shadow(0px 1px 2px rgba(0, 0, 0, 0.3));\n",
       "      fill: #FFFFFF;\n",
       "    }\n",
       "  </style>\n",
       "\n",
       "      <script>\n",
       "        const buttonEl =\n",
       "          document.querySelector('#df-40281275-abec-4131-8e90-5d6eeb508af6 button.colab-df-convert');\n",
       "        buttonEl.style.display =\n",
       "          google.colab.kernel.accessAllowed ? 'block' : 'none';\n",
       "\n",
       "        async function convertToInteractive(key) {\n",
       "          const element = document.querySelector('#df-40281275-abec-4131-8e90-5d6eeb508af6');\n",
       "          const dataTable =\n",
       "            await google.colab.kernel.invokeFunction('convertToInteractive',\n",
       "                                                     [key], {});\n",
       "          if (!dataTable) return;\n",
       "\n",
       "          const docLinkHtml = 'Like what you see? Visit the ' +\n",
       "            '<a target=\"_blank\" href=https://colab.research.google.com/notebooks/data_table.ipynb>data table notebook</a>'\n",
       "            + ' to learn more about interactive tables.';\n",
       "          element.innerHTML = '';\n",
       "          dataTable['output_type'] = 'display_data';\n",
       "          await google.colab.output.renderOutput(dataTable, element);\n",
       "          const docLink = document.createElement('div');\n",
       "          docLink.innerHTML = docLinkHtml;\n",
       "          element.appendChild(docLink);\n",
       "        }\n",
       "      </script>\n",
       "    </div>\n",
       "  </div>\n",
       "  "
      ],
      "text/plain": [
       "       Order ID                     Product  Quantity Ordered  Price Each  \\\n",
       "9        278806  Bose SoundSport Headphones               1.0       99.99   \n",
       "10       278806             ThinkPad Laptop               1.0      999.99   \n",
       "15       278811            Wired Headphones               1.0       11.99   \n",
       "16       278811    Apple Airpods Headphones               1.0      150.00   \n",
       "24       278819                      iPhone               1.0      700.00   \n",
       "...         ...                         ...               ...         ...   \n",
       "186799   161960        USB-C Charging Cable               2.0       11.95   \n",
       "186811   161972                Google Phone               1.0      600.00   \n",
       "186812   161972        USB-C Charging Cable               1.0       11.95   \n",
       "186837   161997                Google Phone               1.0      600.00   \n",
       "186838   161997        USB-C Charging Cable               1.0       11.95   \n",
       "\n",
       "            Order Date                       Purchase Address  Months   Sales  \\\n",
       "9       11/19/19 19:12           174 2nd St, Boston, MA 02215      11   99.99   \n",
       "10      11/19/19 19:12           174 2nd St, Boston, MA 02215      11  999.99   \n",
       "15      11/06/19 16:01     99 Elm St, San Francisco, CA 94016      11   11.99   \n",
       "16      11/06/19 16:01     99 Elm St, San Francisco, CA 94016      11  150.00   \n",
       "24      11/04/19 06:20  880 Maple St, New York City, NY 10001      11  700.00   \n",
       "...                ...                                    ...     ...     ...   \n",
       "186799  02/01/19 11:32        867 Cherry St, Boston, MA 02215       2   23.90   \n",
       "186811  02/02/19 21:01        59 Lincoln St, Austin, TX 73301       2  600.00   \n",
       "186812  02/02/19 21:01        59 Lincoln St, Austin, TX 73301       2   11.95   \n",
       "186837  02/28/19 22:15    845 8th St, San Francisco, CA 94016       2  600.00   \n",
       "186838  02/28/19 22:15    845 8th St, San Francisco, CA 94016       2   11.95   \n",
       "\n",
       "                 Ville  Hour                                     Grouped  \n",
       "9               Boston    19  Bose SoundSport Headphones,ThinkPad Laptop  \n",
       "10              Boston    19  Bose SoundSport Headphones,ThinkPad Laptop  \n",
       "15       San Francisco    16   Wired Headphones,Apple Airpods Headphones  \n",
       "16       San Francisco    16   Wired Headphones,Apple Airpods Headphones  \n",
       "24       New York City     6             iPhone,Apple Airpods Headphones  \n",
       "...                ...   ...                                         ...  \n",
       "186799          Boston    11        Vareebadd Phone,USB-C Charging Cable  \n",
       "186811          Austin    21           Google Phone,USB-C Charging Cable  \n",
       "186812          Austin    21           Google Phone,USB-C Charging Cable  \n",
       "186837   San Francisco    22           Google Phone,USB-C Charging Cable  \n",
       "186838   San Francisco    22           Google Phone,USB-C Charging Cable  \n",
       "\n",
       "[14649 rows x 11 columns]"
      ]
     },
     "execution_count": 67,
     "metadata": {},
     "output_type": "execute_result"
    }
   ],
   "source": [
    "df"
   ]
  },
  {
   "cell_type": "code",
   "execution_count": null,
   "metadata": {
    "canvas": {
     "comments": [],
     "componentType": "CodeCell",
     "copiedOriginId": null,
     "diskcache": false,
     "headerColor": "none",
     "id": "6b909ef9-504a-4240-96fc-7c8c5e95b1ce",
     "isComponent": false,
     "name": "",
     "parents": []
    },
    "colab": {
     "base_uri": "https://localhost:8080/"
    },
    "id": "LOhRTBNFzWVE",
    "outputId": "bc27d8d8-d76c-4530-c3fc-2cc78bdab99e"
   },
   "outputs": [
    {
     "data": {
      "text/plain": [
       "9         Bose SoundSport Headphones,ThinkPad Laptop\n",
       "10        Bose SoundSport Headphones,ThinkPad Laptop\n",
       "15         Wired Headphones,Apple Airpods Headphones\n",
       "16         Wired Headphones,Apple Airpods Headphones\n",
       "24                   iPhone,Apple Airpods Headphones\n",
       "                             ...                    \n",
       "186799          Vareebadd Phone,USB-C Charging Cable\n",
       "186811             Google Phone,USB-C Charging Cable\n",
       "186812             Google Phone,USB-C Charging Cable\n",
       "186837             Google Phone,USB-C Charging Cable\n",
       "186838             Google Phone,USB-C Charging Cable\n",
       "Name: Grouped, Length: 14649, dtype: object"
      ]
     },
     "execution_count": 68,
     "metadata": {},
     "output_type": "execute_result"
    }
   ],
   "source": [
    "df['Grouped']"
   ]
  },
  {
   "cell_type": "code",
   "execution_count": null,
   "metadata": {
    "canvas": {
     "comments": [],
     "componentType": "CodeCell",
     "copiedOriginId": null,
     "diskcache": false,
     "headerColor": "none",
     "id": "a9ac6d37-34b9-49bb-ab0f-295e8e95e9eb",
     "isComponent": false,
     "name": "",
     "parents": []
    },
    "id": "jXDfs3O2zfZD"
   },
   "outputs": [],
   "source": [
    "df2 = df.drop_duplicates(subset= ['Order ID'])"
   ]
  },
  {
   "cell_type": "code",
   "execution_count": null,
   "metadata": {
    "canvas": {
     "comments": [],
     "componentType": "CodeCell",
     "copiedOriginId": null,
     "diskcache": false,
     "headerColor": "none",
     "id": "89226daf-7ea6-4d10-b1da-24be898991bf",
     "isComponent": false,
     "name": "",
     "parents": []
    },
    "colab": {
     "base_uri": "https://localhost:8080/",
     "height": 265
    },
    "id": "bqrpSzDk0DaZ",
    "outputId": "8fb75283-216b-4a7f-db7d-8065c915486d"
   },
   "outputs": [
    {
     "data": {
      "text/plain": [
       "<matplotlib.axes._subplots.AxesSubplot at 0x7f4157469450>"
      ]
     },
     "execution_count": 72,
     "metadata": {},
     "output_type": "execute_result"
    },
    {
     "data": {
      "image/png": "[encoded data removed]",
      "text/plain": [
       "<Figure size 432x288 with 1 Axes>"
      ]
     },
     "metadata": {},
     "output_type": "display_data"
    }
   ],
   "source": [
    "df2['Grouped'].value_counts()[0:5].plot.pie()"
   ]
  },
  {
   "cell_type": "code",
   "execution_count": null,
   "metadata": {
    "canvas": {
     "comments": [],
     "componentType": "CodeCell",
     "copiedOriginId": null,
     "diskcache": false,
     "headerColor": "none",
     "id": "4e4bc720-3e80-4059-9ab2-d5a732f553e3",
     "isComponent": false,
     "name": "",
     "parents": []
    },
    "id": "L_U5RHca0Iiz"
   },
   "outputs": [],
   "source": [
    " all_data.to_csv('My_all_data.csv', index= False)"
   ]
  },
  {
   "cell_type": "code",
   "execution_count": null,
   "metadata": {
    "canvas": {
     "comments": [],
     "componentType": "CodeCell",
     "copiedOriginId": null,
     "diskcache": false,
     "headerColor": "none",
     "id": "5e3ca6f6-4e4d-4536-9927-9786c743a88c",
     "isComponent": false,
     "name": "",
     "parents": []
    },
    "id": "NApD0eGA0ptU"
   },
   "outputs": [],
   "source": [
    "df2.to_csv('grouped_data.csv',index=False)"
   ]
  }
 ],
 "metadata": {
  "canvas": {
   "colorPalette": [
    "inherit",
    "inherit",
    "inherit",
    "inherit",
    "inherit",
    "inherit",
    "inherit",
    "inherit",
    "inherit",
    "inherit"
   ],
   "parameters": [],
   "version": "1.0"
  },
  "colab": {
   "collapsed_sections": [],
   "provenance": []
  },
  "kernelspec": {
   "display_name": "Python 3 (ipykernel)",
   "language": "python",
   "name": "python3"
  },
  "language_info": {
   "codemirror_mode": {
    "name": "ipython",
    "version": 3
   },
   "file_extension": ".py",
   "mimetype": "text/x-python",
   "name": "python",
   "nbconvert_exporter": "python",
   "pygments_lexer": "ipython3",
   "version": "3.10.6"
  }
 },
 "nbformat": 4,
 "nbformat_minor": 4
}
